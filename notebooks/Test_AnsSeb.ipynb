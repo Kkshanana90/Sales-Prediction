{
 "cells": [
  {
   "cell_type": "code",
   "execution_count": 35,
   "id": "1af6ba61-36f8-45eb-959c-22098cb731f7",
   "metadata": {},
   "outputs": [],
   "source": [
    "import pandas as pd\n",
    "import numpy as np\n",
    "from sklearn.model_selection import train_test_split\n",
    "from sklearn.linear_model import LinearRegression\n",
    "import pickle"
   ]
  },
  {
   "cell_type": "code",
   "execution_count": 25,
   "id": "80ecd0dd-f4ef-4950-b787-bee3c028ff11",
   "metadata": {},
   "outputs": [
    {
     "name": "stderr",
     "output_type": "stream",
     "text": [
      "/Users/selbo/opt/anaconda3/lib/python3.8/site-packages/IPython/core/interactiveshell.py:3165: DtypeWarning: Columns (7) have mixed types.Specify dtype option on import or set low_memory=False.\n",
      "  has_raised = await self.run_ast_nodes(code_ast.body, cell_name,\n"
     ]
    }
   ],
   "source": [
    "data_train = pd.read_csv(\"data/train.csv\")\n",
    "data_store = pd.read_csv(\"data/store.csv\")\n",
    "dt = data_train.merge(data_store, left_on='Store', right_on='Store', how=\"left\")"
   ]
  },
  {
   "cell_type": "code",
   "execution_count": null,
   "id": "aa094d09-731e-4959-8b7c-1025ea0f650e",
   "metadata": {},
   "outputs": [],
   "source": [
    "dt.Open.fillna(1, inplace=True)\n",
    "\n",
    "#remove all without Store\n",
    "dt = dt.dropna( how='any', subset=['Store'])\n",
    "#Make a variable ReOPENING that 1 one if a shop opens after 5 days of absence\n",
    "#make a variable BIG reopening that is 1 after a shop open after 10 days of absence\n",
    "dt['Open_5']  = dt.groupby('Store')['Open'].transform(lambda x: x.rolling(5,  min_periods=5).mean())\n",
    "dt['Open_last5'] = dt.groupby('Store')['Open_5'].shift(1)\n",
    "\n",
    "dt['Reopening'] = (dt.Open_last5 == 0) & (dt.Open == 1)"
   ]
  },
  {
   "cell_type": "code",
   "execution_count": 26,
   "id": "f7144534-c92f-40af-bb7d-131999d8b167",
   "metadata": {},
   "outputs": [],
   "source": [
    "dt = dt.dropna(how='any', subset=['Sales'])\n",
    "sales_zeros=(dt[\"Sales\"] == 0)\n",
    "dt = dt.loc[~sales_zeros, :]"
   ]
  },
  {
   "cell_type": "code",
   "execution_count": 27,
   "id": "b7cd50be-a5bf-4e5f-8f48-14a64ce9895a",
   "metadata": {},
   "outputs": [],
   "source": [
    "features = ['DayOfWeek', 'Open',  'SchoolHoliday']"
   ]
  },
  {
   "cell_type": "code",
   "execution_count": 28,
   "id": "75428654-4a28-4a91-a862-afe6e8c8ab4b",
   "metadata": {},
   "outputs": [],
   "source": [
    "dt = dt.dropna( how='any', subset=features)"
   ]
  },
  {
   "cell_type": "code",
   "execution_count": 29,
   "id": "3fefe470-975c-4eb7-8b5d-f1527aa848f8",
   "metadata": {},
   "outputs": [],
   "source": [
    "X = dt.loc[:, features ]\n",
    "y = dt.loc[:, 'Sales']"
   ]
  },
  {
   "cell_type": "code",
   "execution_count": 30,
   "id": "6e918361-2bae-4bfc-a367-990503d7fee6",
   "metadata": {},
   "outputs": [],
   "source": [
    "X_train, X_test, y_train, y_test = train_test_split(X, y, test_size=0.2, train_size=0.8, random_state=42, shuffle=True, stratify=None)"
   ]
  },
  {
   "cell_type": "code",
   "execution_count": 31,
   "id": "40b03df7-98d9-4388-8b7e-0d2e6b12467e",
   "metadata": {},
   "outputs": [],
   "source": [
    "def rmspe(preds, actuals):\n",
    "    return np.sqrt(np.mean(np.square((actuals-preds) / actuals))) * 100"
   ]
  },
  {
   "cell_type": "code",
   "execution_count": 32,
   "id": "d0d092cb-6507-45f0-9f3d-49bfd9f92104",
   "metadata": {},
   "outputs": [
    {
     "data": {
      "text/plain": [
       "57.88851016661335"
      ]
     },
     "execution_count": 32,
     "metadata": {},
     "output_type": "execute_result"
    }
   ],
   "source": [
    "lr = LinearRegression()\n",
    "lr.fit(X_train, y_train)\n",
    "lr.predict(X_test)\n",
    "\n",
    "rmspe(lr.predict(X_test), y_test)"
   ]
  },
  {
   "cell_type": "code",
   "execution_count": 33,
   "id": "2e944626-8751-4f60-ab58-d1489039c160",
   "metadata": {},
   "outputs": [
    {
     "ename": "NameError",
     "evalue": "name 'rf' is not defined",
     "output_type": "error",
     "traceback": [
      "\u001b[0;31m---------------------------------------------------------------------------\u001b[0m",
      "\u001b[0;31mNameError\u001b[0m                                 Traceback (most recent call last)",
      "\u001b[0;32m<ipython-input-33-0ebe7ba14530>\u001b[0m in \u001b[0;36m<module>\u001b[0;34m\u001b[0m\n\u001b[0;32m----> 1\u001b[0;31m \u001b[0mrf\u001b[0m\u001b[0;34m.\u001b[0m\u001b[0mestimators_\u001b[0m\u001b[0;34m\u001b[0m\u001b[0;34m\u001b[0m\u001b[0m\n\u001b[0m",
      "\u001b[0;31mNameError\u001b[0m: name 'rf' is not defined"
     ]
    }
   ],
   "source": []
  },
  {
   "cell_type": "code",
   "execution_count": 36,
   "id": "42552103-67e6-44aa-91b0-6ee61bd4d39e",
   "metadata": {},
   "outputs": [],
   "source": [
    "loaded_model = pickle.load(open(\"model_AnSeb.sav\", 'rb'))"
   ]
  },
  {
   "cell_type": "code",
   "execution_count": 37,
   "id": "5d8b8503-9548-49fe-92cf-233872568d84",
   "metadata": {},
   "outputs": [
    {
     "data": {
      "text/plain": [
       "[DecisionTreeRegressor(max_depth=40, max_features='auto',\n",
       "                       random_state=1608637542),\n",
       " DecisionTreeRegressor(max_depth=40, max_features='auto',\n",
       "                       random_state=1273642419),\n",
       " DecisionTreeRegressor(max_depth=40, max_features='auto',\n",
       "                       random_state=1935803228),\n",
       " DecisionTreeRegressor(max_depth=40, max_features='auto', random_state=787846414),\n",
       " DecisionTreeRegressor(max_depth=40, max_features='auto', random_state=996406378),\n",
       " DecisionTreeRegressor(max_depth=40, max_features='auto',\n",
       "                       random_state=1201263687),\n",
       " DecisionTreeRegressor(max_depth=40, max_features='auto', random_state=423734972),\n",
       " DecisionTreeRegressor(max_depth=40, max_features='auto', random_state=415968276),\n",
       " DecisionTreeRegressor(max_depth=40, max_features='auto', random_state=670094950),\n",
       " DecisionTreeRegressor(max_depth=40, max_features='auto',\n",
       "                       random_state=1914837113),\n",
       " DecisionTreeRegressor(max_depth=40, max_features='auto', random_state=669991378),\n",
       " DecisionTreeRegressor(max_depth=40, max_features='auto', random_state=429389014),\n",
       " DecisionTreeRegressor(max_depth=40, max_features='auto', random_state=249467210),\n",
       " DecisionTreeRegressor(max_depth=40, max_features='auto',\n",
       "                       random_state=1972458954),\n",
       " DecisionTreeRegressor(max_depth=40, max_features='auto',\n",
       "                       random_state=1572714583),\n",
       " DecisionTreeRegressor(max_depth=40, max_features='auto',\n",
       "                       random_state=1433267572),\n",
       " DecisionTreeRegressor(max_depth=40, max_features='auto', random_state=434285667),\n",
       " DecisionTreeRegressor(max_depth=40, max_features='auto', random_state=613608295),\n",
       " DecisionTreeRegressor(max_depth=40, max_features='auto', random_state=893664919),\n",
       " DecisionTreeRegressor(max_depth=40, max_features='auto', random_state=648061058),\n",
       " DecisionTreeRegressor(max_depth=40, max_features='auto', random_state=88409749),\n",
       " DecisionTreeRegressor(max_depth=40, max_features='auto', random_state=242285876),\n",
       " DecisionTreeRegressor(max_depth=40, max_features='auto',\n",
       "                       random_state=2018247425),\n",
       " DecisionTreeRegressor(max_depth=40, max_features='auto', random_state=953477463),\n",
       " DecisionTreeRegressor(max_depth=40, max_features='auto',\n",
       "                       random_state=1427830251),\n",
       " DecisionTreeRegressor(max_depth=40, max_features='auto',\n",
       "                       random_state=1883569565),\n",
       " DecisionTreeRegressor(max_depth=40, max_features='auto', random_state=911989541),\n",
       " DecisionTreeRegressor(max_depth=40, max_features='auto', random_state=3344769),\n",
       " DecisionTreeRegressor(max_depth=40, max_features='auto', random_state=780932287),\n",
       " DecisionTreeRegressor(max_depth=40, max_features='auto',\n",
       "                       random_state=2114032571),\n",
       " DecisionTreeRegressor(max_depth=40, max_features='auto', random_state=787716372),\n",
       " DecisionTreeRegressor(max_depth=40, max_features='auto', random_state=504579232),\n",
       " DecisionTreeRegressor(max_depth=40, max_features='auto',\n",
       "                       random_state=1306710475),\n",
       " DecisionTreeRegressor(max_depth=40, max_features='auto', random_state=479546681),\n",
       " DecisionTreeRegressor(max_depth=40, max_features='auto', random_state=106328085),\n",
       " DecisionTreeRegressor(max_depth=40, max_features='auto', random_state=30349564),\n",
       " DecisionTreeRegressor(max_depth=40, max_features='auto',\n",
       "                       random_state=1855189739),\n",
       " DecisionTreeRegressor(max_depth=40, max_features='auto', random_state=99052376),\n",
       " DecisionTreeRegressor(max_depth=40, max_features='auto',\n",
       "                       random_state=1250819632),\n",
       " DecisionTreeRegressor(max_depth=40, max_features='auto', random_state=106406362),\n",
       " DecisionTreeRegressor(max_depth=40, max_features='auto', random_state=480404538),\n",
       " DecisionTreeRegressor(max_depth=40, max_features='auto',\n",
       "                       random_state=1717389822),\n",
       " DecisionTreeRegressor(max_depth=40, max_features='auto', random_state=599121577),\n",
       " DecisionTreeRegressor(max_depth=40, max_features='auto', random_state=200427519),\n",
       " DecisionTreeRegressor(max_depth=40, max_features='auto',\n",
       "                       random_state=1254751707),\n",
       " DecisionTreeRegressor(max_depth=40, max_features='auto',\n",
       "                       random_state=2034764475),\n",
       " DecisionTreeRegressor(max_depth=40, max_features='auto',\n",
       "                       random_state=1573512143),\n",
       " DecisionTreeRegressor(max_depth=40, max_features='auto', random_state=999745294),\n",
       " DecisionTreeRegressor(max_depth=40, max_features='auto',\n",
       "                       random_state=1958805693),\n",
       " DecisionTreeRegressor(max_depth=40, max_features='auto', random_state=389151677),\n",
       " DecisionTreeRegressor(max_depth=40, max_features='auto',\n",
       "                       random_state=1224821422),\n",
       " DecisionTreeRegressor(max_depth=40, max_features='auto', random_state=508464061),\n",
       " DecisionTreeRegressor(max_depth=40, max_features='auto', random_state=857592370),\n",
       " DecisionTreeRegressor(max_depth=40, max_features='auto',\n",
       "                       random_state=1642661739),\n",
       " DecisionTreeRegressor(max_depth=40, max_features='auto', random_state=61136438),\n",
       " DecisionTreeRegressor(max_depth=40, max_features='auto',\n",
       "                       random_state=2075460851),\n",
       " DecisionTreeRegressor(max_depth=40, max_features='auto', random_state=396917567),\n",
       " DecisionTreeRegressor(max_depth=40, max_features='auto',\n",
       "                       random_state=2004731384),\n",
       " DecisionTreeRegressor(max_depth=40, max_features='auto', random_state=199502978),\n",
       " DecisionTreeRegressor(max_depth=40, max_features='auto',\n",
       "                       random_state=1545932260),\n",
       " DecisionTreeRegressor(max_depth=40, max_features='auto', random_state=461901618),\n",
       " DecisionTreeRegressor(max_depth=40, max_features='auto', random_state=774414982),\n",
       " DecisionTreeRegressor(max_depth=40, max_features='auto', random_state=732395540),\n",
       " DecisionTreeRegressor(max_depth=40, max_features='auto',\n",
       "                       random_state=1934879560),\n",
       " DecisionTreeRegressor(max_depth=40, max_features='auto', random_state=279394470),\n",
       " DecisionTreeRegressor(max_depth=40, max_features='auto', random_state=56972561),\n",
       " DecisionTreeRegressor(max_depth=40, max_features='auto',\n",
       "                       random_state=1927948675),\n",
       " DecisionTreeRegressor(max_depth=40, max_features='auto',\n",
       "                       random_state=1899242072),\n",
       " DecisionTreeRegressor(max_depth=40, max_features='auto',\n",
       "                       random_state=1999874363),\n",
       " DecisionTreeRegressor(max_depth=40, max_features='auto', random_state=271820813),\n",
       " DecisionTreeRegressor(max_depth=40, max_features='auto',\n",
       "                       random_state=1324556529),\n",
       " DecisionTreeRegressor(max_depth=40, max_features='auto',\n",
       "                       random_state=1655351289),\n",
       " DecisionTreeRegressor(max_depth=40, max_features='auto',\n",
       "                       random_state=1308306184),\n",
       " DecisionTreeRegressor(max_depth=40, max_features='auto', random_state=68574553),\n",
       " DecisionTreeRegressor(max_depth=40, max_features='auto', random_state=419498548),\n",
       " DecisionTreeRegressor(max_depth=40, max_features='auto', random_state=991681409),\n",
       " DecisionTreeRegressor(max_depth=40, max_features='auto', random_state=791274835),\n",
       " DecisionTreeRegressor(max_depth=40, max_features='auto',\n",
       "                       random_state=1035196507),\n",
       " DecisionTreeRegressor(max_depth=40, max_features='auto',\n",
       "                       random_state=1890440558),\n",
       " DecisionTreeRegressor(max_depth=40, max_features='auto', random_state=787110843),\n",
       " DecisionTreeRegressor(max_depth=40, max_features='auto', random_state=524150214),\n",
       " DecisionTreeRegressor(max_depth=40, max_features='auto', random_state=472432043),\n",
       " DecisionTreeRegressor(max_depth=40, max_features='auto',\n",
       "                       random_state=2126768636),\n",
       " DecisionTreeRegressor(max_depth=40, max_features='auto',\n",
       "                       random_state=1431061255),\n",
       " DecisionTreeRegressor(max_depth=40, max_features='auto', random_state=147697582),\n",
       " DecisionTreeRegressor(max_depth=40, max_features='auto', random_state=744595490),\n",
       " DecisionTreeRegressor(max_depth=40, max_features='auto',\n",
       "                       random_state=1758017741),\n",
       " DecisionTreeRegressor(max_depth=40, max_features='auto',\n",
       "                       random_state=1679592528),\n",
       " DecisionTreeRegressor(max_depth=40, max_features='auto',\n",
       "                       random_state=1111451555),\n",
       " DecisionTreeRegressor(max_depth=40, max_features='auto', random_state=782698033),\n",
       " DecisionTreeRegressor(max_depth=40, max_features='auto', random_state=698027879),\n",
       " DecisionTreeRegressor(max_depth=40, max_features='auto',\n",
       "                       random_state=1096768899),\n",
       " DecisionTreeRegressor(max_depth=40, max_features='auto',\n",
       "                       random_state=1338788865),\n",
       " DecisionTreeRegressor(max_depth=40, max_features='auto',\n",
       "                       random_state=1826030589),\n",
       " DecisionTreeRegressor(max_depth=40, max_features='auto', random_state=86191493),\n",
       " DecisionTreeRegressor(max_depth=40, max_features='auto', random_state=893102645),\n",
       " DecisionTreeRegressor(max_depth=40, max_features='auto', random_state=200619113),\n",
       " DecisionTreeRegressor(max_depth=40, max_features='auto', random_state=290770691),\n",
       " DecisionTreeRegressor(max_depth=40, max_features='auto', random_state=793943861),\n",
       " DecisionTreeRegressor(max_depth=40, max_features='auto', random_state=134489564)]"
      ]
     },
     "execution_count": 37,
     "metadata": {},
     "output_type": "execute_result"
    }
   ],
   "source": [
    "loaded_model.estimators_"
   ]
  },
  {
   "cell_type": "code",
   "execution_count": null,
   "id": "a817e204-cfe3-4a8d-be46-c1b88b850818",
   "metadata": {},
   "outputs": [],
   "source": []
  }
 ],
 "metadata": {
  "kernelspec": {
   "display_name": "Python 3",
   "language": "python",
   "name": "python3"
  },
  "language_info": {
   "codemirror_mode": {
    "name": "ipython",
    "version": 3
   },
   "file_extension": ".py",
   "mimetype": "text/x-python",
   "name": "python",
   "nbconvert_exporter": "python",
   "pygments_lexer": "ipython3",
   "version": "3.8.8"
  }
 },
 "nbformat": 4,
 "nbformat_minor": 5
}

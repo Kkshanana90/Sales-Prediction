{
 "cells": [
  {
   "cell_type": "code",
   "execution_count": 2,
   "id": "bf3acf78-d874-4b57-b615-7d9ee3ff0cd9",
   "metadata": {},
   "outputs": [],
   "source": [
    "import pandas as pd\n",
    "import numpy as np\n",
    "from sklearn.model_selection import train_test_split\n",
    "from sklearn.ensemble import RandomForestRegressor\n",
    "import plotly.express as px\n",
    "import pickle\n",
    "import time\n",
    "import easygui\n",
    "import xgboost as xgb"
   ]
  },
  {
   "cell_type": "markdown",
   "id": "642dea00-bf39-44d0-bf94-151ba726ede8",
   "metadata": {},
   "source": [
    "## Open Data and Join Data"
   ]
  },
  {
   "cell_type": "code",
   "execution_count": 4,
   "id": "e250663c-8c57-4ae0-a482-f9df2bc79fe2",
   "metadata": {},
   "outputs": [
    {
     "name": "stdout",
     "output_type": "stream",
     "text": [
      "Please choose the TEST file in the dialogue (should be a CSV file - see ReadMe)\n"
     ]
    },
    {
     "name": "stderr",
     "output_type": "stream",
     "text": [
      "/Users/selbo/opt/anaconda3/lib/python3.8/site-packages/IPython/core/interactiveshell.py:3165: DtypeWarning: Columns (7) have mixed types.Specify dtype option on import or set low_memory=False.\n",
      "  has_raised = await self.run_ast_nodes(code_ast.body, cell_name,\n"
     ]
    }
   ],
   "source": [
    "print(\"Please choose the TEST file in the dialogue (should be a CSV file - see ReadMe)\")\n",
    "filename = easygui.fileopenbox()\n",
    "#filename = \"data/train.csv\"\n",
    "data_train = pd.read_csv(filename)\n",
    "data_store = pd.read_csv(\"data/store_AnSeb.csv\")\n",
    "dt = data_train.merge(data_store, left_on='Store', right_on='Store', how=\"left\")"
   ]
  },
  {
   "cell_type": "code",
   "execution_count": null,
   "id": "ab245736-d3a1-4dfb-a724-8f1646ba06c2",
   "metadata": {},
   "outputs": [],
   "source": []
  },
  {
   "cell_type": "markdown",
   "id": "1ad8d657-6d2c-4874-8211-076de069bf94",
   "metadata": {
    "tags": []
   },
   "source": [
    "## Clean Data"
   ]
  },
  {
   "cell_type": "code",
   "execution_count": 5,
   "id": "9285fa72-642a-4cf3-874e-5136648e61a6",
   "metadata": {},
   "outputs": [],
   "source": [
    "#Drop the Customers because we will not have it in the Future\n",
    "dt = dt.drop(\"Customers\", axis=1)"
   ]
  },
  {
   "cell_type": "code",
   "execution_count": 6,
   "id": "396cc064-35ad-4f0c-a983-e296f5f13027",
   "metadata": {},
   "outputs": [],
   "source": [
    "#Date Variable format\n",
    "dt['Date'] = pd.DatetimeIndex(dt['Date']) "
   ]
  },
  {
   "cell_type": "markdown",
   "id": "6463e4b4-e903-49eb-b3c5-dd88ffc303aa",
   "metadata": {},
   "source": [
    "## Get rid of missing Stores (they miss too many features)"
   ]
  },
  {
   "cell_type": "code",
   "execution_count": 7,
   "id": "fe6be0b8-0fa4-46f9-84bc-2026da4b0f69",
   "metadata": {},
   "outputs": [],
   "source": [
    "#at this get rid of missing store\n",
    "dt = dt.dropna( how='any', subset=[\"Store\"])\n",
    "#also change to INTEGER\n",
    "dt.loc[:, \"Store\"] = dt.loc[:, \"Store\"].astype(int)"
   ]
  },
  {
   "cell_type": "markdown",
   "id": "018fad50-b9c9-4c91-8fd9-e75b197bef2a",
   "metadata": {},
   "source": [
    "# Feature Engineering"
   ]
  },
  {
   "cell_type": "code",
   "execution_count": 8,
   "id": "4a34c154-d7c0-46db-9535-a20724250005",
   "metadata": {},
   "outputs": [],
   "source": [
    "dt.Open.fillna(1, inplace=True)\n",
    "\n",
    "#Make a variable ReOPENING that 1 one if a shop opens after 5 days of absence\n",
    "dt['Open_5']  = dt.groupby('Store')['Open'].transform(lambda x: x.rolling(5,  min_periods=5).mean())\n",
    "dt['Open_last5'] = dt.groupby('Store')['Open_5'].shift(1)\n",
    "\n",
    "dt['Reopening'] = (dt.Open_last5 == 0) & (dt.Open == 1)"
   ]
  },
  {
   "cell_type": "code",
   "execution_count": 9,
   "id": "8b1e77dc-cf5b-4c62-8025-a1bb703d6acd",
   "metadata": {},
   "outputs": [],
   "source": [
    "#make one-hot-encoding for the StateHoliday variable\n",
    "#a = public holiday, b = Easter holiday, c = Christmas, 0 = None\n",
    "dt_eng = dt\n",
    "dt_eng.loc[: , \"PublicHoliday\"] = dt.loc[:, \"StateHoliday\"]==\"a\" \n",
    "dt_eng.loc[: , \"Easter\"] = dt.loc[:, \"StateHoliday\"]==\"b\" \n",
    "dt_eng.loc[: , \"Christmas\"] = dt.loc[:, \"StateHoliday\"]==\"c\" "
   ]
  },
  {
   "cell_type": "code",
   "execution_count": 10,
   "id": "d295c737-2944-4421-9ac5-8b3b532d60e8",
   "metadata": {},
   "outputs": [],
   "source": [
    "#StoreType One-Hot encoding\n",
    "dummies = pd.get_dummies(dt.loc[:, \"StoreType\"], prefix=\"storetype\", prefix_sep='_')\n",
    "dt_eng = pd.concat([dt_eng, dummies], axis=1)"
   ]
  },
  {
   "cell_type": "code",
   "execution_count": 11,
   "id": "62acf3d2-6370-4abb-a207-ac1ab1797f86",
   "metadata": {},
   "outputs": [],
   "source": [
    "#Assortment\n",
    "dummies = pd.get_dummies(dt_eng.loc[:, \"Assortment\"], prefix=\"assort\", prefix_sep='_')\n",
    "dt_eng = pd.concat([dt_eng, dummies], axis=1)"
   ]
  },
  {
   "cell_type": "code",
   "execution_count": 12,
   "id": "fda81062-dae3-414a-9b6f-f3399e72e34d",
   "metadata": {},
   "outputs": [],
   "source": [
    "dt_eng.loc[:, \"logDistance\"] = np.log(dt_eng.loc[:, \"CompetitionDistance\"])"
   ]
  },
  {
   "cell_type": "markdown",
   "id": "bb27beb9-86ed-4332-b970-92f0634f4bd8",
   "metadata": {},
   "source": [
    "## Drop the Sales = 0 (after feature engineering)"
   ]
  },
  {
   "cell_type": "code",
   "execution_count": 13,
   "id": "2dddcbfd-ac56-4a60-80e9-a4205959e674",
   "metadata": {},
   "outputs": [],
   "source": [
    "dt_eng = dt_eng.dropna( how='any', subset=['Sales'])\n",
    "sales_zeros=(dt_eng[\"Sales\"] == 0)\n",
    "dt_eng = dt_eng.loc[~sales_zeros, :]"
   ]
  },
  {
   "cell_type": "code",
   "execution_count": 14,
   "id": "51b28320-adae-4e0d-b153-5742b57593fd",
   "metadata": {},
   "outputs": [],
   "source": [
    "#impute the School Holiday\n",
    "dt_eng[\"SchoolHoliday\"] = dt_eng[\"SchoolHoliday\"].fillna(0)\n",
    "dt_eng['CompetitionDistance'] = dt_eng['CompetitionDistance'].fillna(dt_eng['CompetitionDistance'].mean())\n",
    "dt_eng['logDistance'] = dt_eng['logDistance'].fillna(dt_eng['logDistance'].mean())"
   ]
  },
  {
   "cell_type": "markdown",
   "id": "fd66af57-91f8-4f92-9760-dbd171921df1",
   "metadata": {},
   "source": [
    "### time series stuff"
   ]
  },
  {
   "cell_type": "code",
   "execution_count": 15,
   "id": "1531bd29-d042-43ab-a809-ca5da183bf72",
   "metadata": {},
   "outputs": [
    {
     "name": "stderr",
     "output_type": "stream",
     "text": [
      "<ipython-input-15-907aadee8390>:4: FutureWarning: weekofyear and week have been deprecated, please use DatetimeIndex.isocalendar().week instead, which returns a Series.  To exactly reproduce the behavior of week and weekofyear and return an Index, you may call pd.Int64Index(idx.isocalendar().week)\n",
      "  dt_eng['week'] = pd.DatetimeIndex(dt_eng['Date']).week\n"
     ]
    }
   ],
   "source": [
    "##Add Monthly Fixed Effects\n",
    "dt_eng['day'] = pd.DatetimeIndex(dt_eng['Date']).day\n",
    "dt_eng['month'] = pd.DatetimeIndex(dt_eng['Date']).month\n",
    "dt_eng['week'] = pd.DatetimeIndex(dt_eng['Date']).week\n",
    "dt_eng['year'] = pd.DatetimeIndex(dt_eng['Date']).year"
   ]
  },
  {
   "cell_type": "code",
   "execution_count": 16,
   "id": "9332c97b-4011-4c51-b298-329afeb39b4b",
   "metadata": {},
   "outputs": [],
   "source": [
    "dummies = pd.get_dummies(dt_eng.loc[:, \"month\"], prefix=\"m\", prefix_sep='_')\n",
    "dt_eng = pd.concat([dt_eng, dummies], axis=1)"
   ]
  },
  {
   "cell_type": "code",
   "execution_count": 17,
   "id": "6037c738-2c5d-4640-8ae0-44d6727c38db",
   "metadata": {},
   "outputs": [],
   "source": [
    "dt_eng = dt_eng.dropna( how='any', subset=[\"DayOfWeek\"])\n",
    "dummies = pd.get_dummies(dt_eng.loc[:, \"DayOfWeek\"].astype(int), prefix=\"dow\", prefix_sep='_')\n",
    "dt_eng = pd.concat([dt_eng, dummies], axis=1)"
   ]
  },
  {
   "cell_type": "code",
   "execution_count": 18,
   "id": "daef36e6-cc78-41e8-8034-6862011f4f3a",
   "metadata": {},
   "outputs": [],
   "source": [
    "#Beginning of the month craze\n",
    "dt_eng[\"monthstart\"] = (dt_eng.day>=30) | ( dt_eng.day<=3)"
   ]
  },
  {
   "cell_type": "code",
   "execution_count": 19,
   "id": "e65cf86a-b010-448d-808e-0d92b329f981",
   "metadata": {},
   "outputs": [],
   "source": [
    "dt_eng[\"prstart\"] = (dt_eng.Promo2SinceWeek <= dt_eng.week) & (dt_eng.Promo2SinceYear <= dt_eng.year)\n",
    "dt_eng = pd.concat([dt_eng, dt_eng[\"PromoInterval\"].str.split(',', expand=True)], axis=1)"
   ]
  },
  {
   "cell_type": "code",
   "execution_count": 20,
   "id": "d84a30f2-679c-446e-b720-b2c6c86e7238",
   "metadata": {
    "tags": []
   },
   "outputs": [],
   "source": [
    "def mnames(s):\n",
    "    if s==\"Jan\":\n",
    "        return 1\n",
    "    if s==\"Feb\":\n",
    "        return 2\n",
    "    if s==\"Mar\":\n",
    "        return 3\n",
    "    if s==\"Apr\":\n",
    "        return 4\n",
    "    if s==\"May\":\n",
    "        return 5\n",
    "    if s==\"Jun\":\n",
    "        return 6\n",
    "    if s==\"Jul\":\n",
    "        return 7\n",
    "    if s==\"Aug\":\n",
    "        return 8\n",
    "    if s==\"Sept\":\n",
    "        return 9\n",
    "    if s==\"Oct\":\n",
    "        return 10\n",
    "    if s==\"Nov\":\n",
    "        return 11\n",
    "    if s==\"Dec\":\n",
    "        return 12"
   ]
  },
  {
   "cell_type": "code",
   "execution_count": 21,
   "id": "b028cbb1-62fb-4180-8c12-adbbc10777e5",
   "metadata": {},
   "outputs": [],
   "source": [
    "dt_eng.loc[:, 'pr1'] = dt_eng.loc[:, 0].apply(lambda row : mnames(row))\n",
    "dt_eng.loc[:, 'pr2'] = dt_eng.loc[:, 1].apply(lambda row : mnames(row))\n",
    "dt_eng.loc[:, 'pr3'] = dt_eng.loc[:, 2].apply(lambda row : mnames(row))\n",
    "dt_eng.loc[:, 'pr4'] = dt_eng.loc[:, 3].apply(lambda row : mnames(row))\n",
    "\n",
    "dt_eng.loc[:, \"themonth\"] = (dt_eng['pr1'] == dt_eng[\"month\"])|(dt_eng['pr2'] == dt_eng[\"month\"])|(dt_eng['pr4'] == dt_eng[\"month\"])|(dt_eng['pr3'] == dt_eng[\"month\"])  \n",
    "dt_eng[\"pr_campaign\"] = (dt_eng['prstart']==True) & (dt_eng[\"themonth\"] == True)"
   ]
  },
  {
   "cell_type": "code",
   "execution_count": 22,
   "id": "0b0f6721-5026-4122-a6c9-229e69c77056",
   "metadata": {},
   "outputs": [],
   "source": [
    "#Make a Variable that counts the days since day 1\n",
    "dt_eng['Date'] = pd.to_datetime(dt_eng['Date']) \n",
    "dt_eng['date_delta'] = (dt_eng['Date'] - dt_eng['Date'].min())  / np.timedelta64(1,'D')"
   ]
  },
  {
   "cell_type": "code",
   "execution_count": 23,
   "id": "2315fc8a-0f5d-4447-a931-c4b2e108b4f4",
   "metadata": {},
   "outputs": [],
   "source": [
    "#Define 'City_Center' =1 if distance <800 & competition open since year <2004\n",
    "dt_eng['City_center'] = (dt_eng['CompetitionDistance'] < 500) &(dt_eng['CompetitionOpenSinceYear'] < 2004)"
   ]
  },
  {
   "cell_type": "code",
   "execution_count": 24,
   "id": "3020d4f7-d7f5-4b0b-9b5b-b46ec06befeb",
   "metadata": {},
   "outputs": [],
   "source": [
    "#checkoing the data, one can see that in uneven weeks the first 3 days are selling especially well, this is one way to make it\n",
    "dt_eng['week1'] = ((dt_eng['week'] % 4) == 0) \n",
    "dt_eng['week3'] = ((dt_eng['week'] % 4) == 2)\n",
    "dt_eng['week13'] = ((dt_eng['week'] % 4) == 0) | ((dt_eng['week'] % 4) == 2)\n",
    "dt_eng['week13'].value_counts()\n",
    "dt_eng['firstdaysweek13'] = ((dt_eng['week13']) == True) & (dt_eng['DayOfWeek'] < 4 )"
   ]
  },
  {
   "cell_type": "code",
   "execution_count": 25,
   "id": "b44d65a0-eddf-4413-af28-5bc5296b8a1c",
   "metadata": {},
   "outputs": [
    {
     "data": {
      "text/plain": [
       "4.0     81666\n",
       "6.0     80508\n",
       "2.0     80235\n",
       "12.0    41272\n",
       "3.0     41082\n",
       "5.0     40302\n",
       "10.0    39728\n",
       "1.0     39261\n",
       "8.0     36507\n",
       "14.0     1003\n",
       "7.0      1002\n",
       "Name: Fortnight_Days, dtype: int64"
      ]
     },
     "execution_count": 25,
     "metadata": {},
     "output_type": "execute_result"
    }
   ],
   "source": [
    "#another way is to code the weekdays separately.... \n",
    "dt_eng[\"Fortnight_Days\"] = dt_eng[\"DayOfWeek\"]\n",
    "dt_eng.Fortnight_Days.value_counts()\n",
    "dt_eng.loc[dt_eng['week13']==True, \"Fortnight_Days\"] = dt_eng[\"Fortnight_Days\"] * 2 \n",
    "dt_eng.Fortnight_Days.value_counts()"
   ]
  },
  {
   "cell_type": "code",
   "execution_count": 26,
   "id": "c39ebd56-5118-4d3d-9573-ab22ab8519a8",
   "metadata": {},
   "outputs": [],
   "source": [
    "dic = {7: 1, 1: 2, 2:3, 3:4, 4:5, 5: 6 , 6: 7}\n",
    "dt_eng['DayOfWeek_recode'] = dt_eng['DayOfWeek'].replace(dic)\n"
   ]
  },
  {
   "cell_type": "markdown",
   "id": "0fc6a12b-6a8a-4836-82b0-162af4b2eff3",
   "metadata": {},
   "source": [
    "## Final Feature selection"
   ]
  },
  {
   "cell_type": "code",
   "execution_count": 37,
   "id": "8800b88e-60ba-480e-89b1-0d9d6b2ae1cb",
   "metadata": {},
   "outputs": [],
   "source": [
    "features = [ 'SchoolHoliday', 'logDistance', 'prstart', 'Promo2', 'PublicHoliday', 'Easter', 'Christmas' \n",
    "            , 'Sales_avg_store', 'storetype_a', 'storetype_b', 'storetype_c', 'storetype_d', 'assort_a', 'assort_b', 'assort_c',\n",
    "            \"monthstart\", \"date_delta\", \"City_center\", \"firstdaysweek13\", \n",
    "           \"m_12\", \"Fortnight_Days\", \"DayOfWeek_recode\",\n",
    "           \"dow_1\", \"dow_5\", \"dow_6\",  \"dow_2\", \"dow_3\", \"dow_4\",\"dow_7\" , \"pr_campaign\", \"Reopening\"]"
   ]
  },
  {
   "cell_type": "code",
   "execution_count": 38,
   "id": "8ddd3566-86d2-453b-9e1d-1715efe31d1a",
   "metadata": {},
   "outputs": [
    {
     "data": {
      "text/plain": [
       "Index(['SchoolHoliday', 'logDistance', 'prstart', 'Promo2', 'PublicHoliday',\n",
       "       'Easter', 'Christmas', 'Sales_avg_store', 'storetype_a', 'storetype_b',\n",
       "       'storetype_c', 'storetype_d', 'assort_a', 'assort_b', 'assort_c',\n",
       "       'monthstart', 'date_delta', 'City_center', 'firstdaysweek13', 'm_12',\n",
       "       'Fortnight_Days', 'DayOfWeek_recode', 'dow_1', 'dow_5', 'dow_6',\n",
       "       'dow_2', 'dow_3', 'dow_4', 'dow_7', 'pr_campaign', 'Reopening'],\n",
       "      dtype='object')"
      ]
     },
     "execution_count": 38,
     "metadata": {},
     "output_type": "execute_result"
    }
   ],
   "source": [
    "dt_eng_nomissing = dt_eng.dropna( how='any', subset=features)\n",
    "X = dt_eng_nomissing.loc[:, features ]\n",
    "y = dt_eng_nomissing.loc[:, 'Sales']"
   ]
  },
  {
   "cell_type": "markdown",
   "id": "84ba9f9c-c0c6-44e1-910c-49427606e38a",
   "metadata": {
    "tags": []
   },
   "source": [
    "## Modelling"
   ]
  },
  {
   "cell_type": "markdown",
   "id": "009f3369-27e2-4f06-acc2-2aae881256d0",
   "metadata": {},
   "source": [
    "### Baseline"
   ]
  },
  {
   "cell_type": "code",
   "execution_count": 39,
   "id": "ede201d3-6eda-44a2-9663-aa2307d95148",
   "metadata": {},
   "outputs": [],
   "source": [
    "def rmspe(preds, actuals):\n",
    "    #preds = preds.reshape(-1)\n",
    "    #actuals = actuals.reshape(-1)\n",
    "    #assert preds.shape == actuals.shape\n",
    "    return round(np.sqrt(np.mean(np.square((actuals-preds) / actuals))) * 100,4)"
   ]
  },
  {
   "cell_type": "code",
   "execution_count": 41,
   "id": "62eadb59-9b7c-406e-b37f-bb432f9b3b10",
   "metadata": {},
   "outputs": [
    {
     "name": "stdout",
     "output_type": "stream",
     "text": [
      "Ansel and Sebastians model has an RMSPE of 19.3897\n"
     ]
    }
   ],
   "source": [
    "m1 = pickle.load(open(\"model_AnSeb2.sav\", 'rb'))\n",
    "\n",
    "predictions = m1.predict(X)\n",
    "\n",
    "print(f\"Ansel and Sebastians model has an RMSPE of {rmspe(predictions, y)}\")"
   ]
  },
  {
   "cell_type": "code",
   "execution_count": 820,
   "id": "d1990c41-bcd6-49e9-82aa-8f93f5a90c25",
   "metadata": {},
   "outputs": [
    {
     "name": "stdout",
     "output_type": "stream",
     "text": [
      "The Baseline (average) RMSPE is just 61.6708\n",
      ".....looks like Ansel and Seb rock\n"
     ]
    }
   ],
   "source": [
    "#Baseline\n",
    "#y.loc[:, \"Baseline\"] = 5\n",
    "#dt.loc[:, \"Sales\"].mean()\n",
    "#y.loc[:, \"new_row\"] = 5\n",
    "y = pd.DataFrame(y)\n",
    "y.loc[:, \"Baseline\"] = y.loc[:, \"Sales\"].mean()\n",
    "baseline_rmspe = rmspe(y.loc[:, \"Baseline\"], y.loc[:, \"Sales\"])\n",
    "print(f\"The Baseline (average) RMSPE is just {baseline_rmspe}\")\n",
    "time.sleep(5)\n",
    "print(f\".....looks like Ansel and Seb rock\")"
   ]
  }
 ],
 "metadata": {
  "kernelspec": {
   "display_name": "Python 3",
   "language": "python",
   "name": "python3"
  },
  "language_info": {
   "codemirror_mode": {
    "name": "ipython",
    "version": 3
   },
   "file_extension": ".py",
   "mimetype": "text/x-python",
   "name": "python",
   "nbconvert_exporter": "python",
   "pygments_lexer": "ipython3",
   "version": "3.8.8"
  }
 },
 "nbformat": 4,
 "nbformat_minor": 5
}

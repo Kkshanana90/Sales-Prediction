{
 "cells": [
  {
   "cell_type": "code",
   "execution_count": null,
   "id": "bf3acf78-d874-4b57-b615-7d9ee3ff0cd9",
   "metadata": {},
   "outputs": [],
   "source": [
    "import pandas as pd\n",
    "import numpy as np\n",
    "from sklearn.model_selection import train_test_split\n",
    "from sklearn.linear_model import LinearRegression\n",
    "from sklearn.ensemble import RandomForestRegressor\n",
    "import matplotlib.pyplot as plt\n",
    "import plotly.express as px\n",
    "import pickle"
   ]
  },
  {
   "cell_type": "markdown",
   "id": "642dea00-bf39-44d0-bf94-151ba726ede8",
   "metadata": {},
   "source": [
    "## Open Data and Join Data"
   ]
  },
  {
   "cell_type": "code",
   "execution_count": null,
   "id": "e250663c-8c57-4ae0-a482-f9df2bc79fe2",
   "metadata": {},
   "outputs": [],
   "source": [
    "data_train = pd.read_csv(\"../data/train.csv\")\n",
    "data_store = pd.read_csv(\"../data/store.csv\")\n",
    "dt = data_train.merge(data_store, left_on='Store', right_on='Store', how=\"left\")"
   ]
  },
  {
   "cell_type": "markdown",
   "id": "1ad8d657-6d2c-4874-8211-076de069bf94",
   "metadata": {
    "tags": []
   },
   "source": [
    "## Clean Data"
   ]
  },
  {
   "cell_type": "code",
   "execution_count": null,
   "id": "9285fa72-642a-4cf3-874e-5136648e61a6",
   "metadata": {},
   "outputs": [],
   "source": [
    "dt.Open.fillna(1, inplace=True)\n",
    "dt.Open.isnull().sum()\n",
    "\n",
    "#remove all without Store\n",
    "dt = dt.dropna( how='any', subset=['Store'])\n",
    "#Make a variable ReOPENING that 1 one if a shop opens after 5 days of absence\n",
    "#make a variable BIG reopening that is 1 after a shop open after 10 days of absence\n",
    "dt['Open_5']  = dt.groupby('Store')['Open'].transform(lambda x: x.rolling(5,  min_periods=5).mean())\n",
    "dt['Open_last5'] = dt.groupby('Store')['Open_5'].shift(1)\n",
    "dt['Open_10']  = dt.groupby('Store')['Open'].transform(lambda x: x.rolling(10,  min_periods=5).mean())\n",
    "dt['Open_last10'] = dt.groupby('Store')['Open_10'].shift(1)\n",
    "\n",
    "dt['Reopening'] = (dt.Open_last5 == 0) & (dt.Open == 1)\n",
    "dt['Reopening_big'] = (dt.Open_last10 == 0) & (dt.Open == 1)\n",
    "\n",
    "dt.Open[dt.Open_last5 == 0].value_counts()\n",
    "dt[dt.Store==2].head(60)\n",
    "dt.Reopening_big.value_counts()"
   ]
  },
  {
   "cell_type": "code",
   "execution_count": null,
   "id": "396cc064-35ad-4f0c-a983-e296f5f13027",
   "metadata": {},
   "outputs": [],
   "source": [
    "#Drop the Customers because we will not have it in the Future\n",
    "dt = dt.drop(\"Customers\", axis=1)"
   ]
  },
  {
   "cell_type": "code",
   "execution_count": null,
   "id": "9e9dc763-dce2-4c40-bea3-47216fd622d7",
   "metadata": {},
   "outputs": [],
   "source": [
    "#Date Variable format\n",
    "dt['Date'] = pd.DatetimeIndex(dt['Date']) "
   ]
  },
  {
   "cell_type": "code",
   "execution_count": null,
   "id": "86926deb-3fb1-48ab-a587-cc87d1407836",
   "metadata": {},
   "outputs": [],
   "source": [
    "#Missing variables in the beginning\n",
    "dt.isnull().sum()"
   ]
  },
  {
   "cell_type": "markdown",
   "id": "252c6bce-ebfd-41be-bf7f-46a4d536bafd",
   "metadata": {},
   "source": [
    "## Exploratory Analysis"
   ]
  },
  {
   "cell_type": "code",
   "execution_count": null,
   "id": "247ac44b-88ce-4a5a-b8ed-3350daaffbae",
   "metadata": {},
   "outputs": [],
   "source": [
    "dt.StateHoliday.value_counts()"
   ]
  },
  {
   "cell_type": "markdown",
   "id": "6463e4b4-e903-49eb-b3c5-dd88ffc303aa",
   "metadata": {},
   "source": [
    "## Get rid of missing Stores (they miss too many features)"
   ]
  },
  {
   "cell_type": "code",
   "execution_count": null,
   "id": "fe6be0b8-0fa4-46f9-84bc-2026da4b0f69",
   "metadata": {
    "tags": []
   },
   "outputs": [],
   "source": [
    "#at this get rid of missing store\n",
    "dt = dt.dropna( how='any', subset=[\"Store\"])\n",
    "#also change to INTEGER\n",
    "dt.loc[:, \"Store\"] = dt.loc[:, \"Store\"].astype(int)"
   ]
  },
  {
   "cell_type": "code",
   "execution_count": null,
   "id": "65faad1d-150c-4289-8e35-6e5f316bc8be",
   "metadata": {},
   "outputs": [],
   "source": [
    "dt_full = dt"
   ]
  },
  {
   "cell_type": "markdown",
   "id": "3e34e2c1-e8a8-4a06-8210-c526f225e224",
   "metadata": {},
   "source": [
    "## Exploratory Graph"
   ]
  },
  {
   "cell_type": "code",
   "execution_count": null,
   "id": "d301b55b-f896-4091-ad3f-743112954c6e",
   "metadata": {},
   "outputs": [],
   "source": [
    "\n",
    "#dt_full.loc[:, \"Monday\"] = dt_full.loc[:, \"DayOfWeek\"]==1\n",
    "shop2 = (dt_full.loc[:, \"Store\"]==2) | (dt_full.loc[:, \"Store\"]==3) \n",
    "#shop2 = (dt_full.loc[:, \"Store\"]==3) \n",
    "\n",
    "px.line(dt_full[shop2], x=\"Date\", y=\"Sales\",  color='Store')\n",
    "#px. add_line(dt_full[shop2], x=\"Date\", y=\"Sales\")\n",
    "#, animation_frame=\"year\", ,size=\"pop\", color=\"continent\", hover_name=\"country\",log_x=True, size_max=55, range_x=[100,100000], range_y=[25,90]"
   ]
  },
  {
   "cell_type": "markdown",
   "id": "018fad50-b9c9-4c91-8fd9-e75b197bef2a",
   "metadata": {},
   "source": [
    "# Feature Engineering"
   ]
  },
  {
   "cell_type": "code",
   "execution_count": 68,
   "id": "8b1e77dc-cf5b-4c62-8025-a1bb703d6acd",
   "metadata": {},
   "outputs": [],
   "source": [
    "#make one-hot-encoding for the StateHoliday variable\n",
    "#a = public holiday, b = Easter holiday, c = Christmas, 0 = None\n",
    "dt_eng = dt\n",
    "dt_eng.loc[: , \"PublicHoliday\"] = dt.loc[:, \"StateHoliday\"]==\"a\" \n",
    "dt_eng.loc[: , \"Easter\"] = dt.loc[:, \"StateHoliday\"]==\"b\" \n",
    "dt_eng.loc[: , \"Christmas\"] = dt.loc[:, \"StateHoliday\"]==\"c\" \n",
    "#dt_eng = dt.drop(\"StateHoliday\", axis=1)\n"
   ]
  },
  {
   "cell_type": "code",
   "execution_count": 69,
   "id": "d295c737-2944-4421-9ac5-8b3b532d60e8",
   "metadata": {},
   "outputs": [],
   "source": [
    "#StoreType One-Hot encoding\n",
    "dummies = pd.get_dummies(dt.loc[:, \"StoreType\"], prefix=\"storetype\", prefix_sep='_')\n",
    "dt_eng = pd.concat([dt_eng, dummies], axis=1)"
   ]
  },
  {
   "cell_type": "code",
   "execution_count": 70,
   "id": "74fca5fa-4a65-4b4a-aa00-bc97f046474c",
   "metadata": {},
   "outputs": [],
   "source": [
    "#Storetype Mean encoding\n",
    "\n",
    "#i dont want the 0 sales days (and missing values) have an effect on the averaging... therefore i make a little sz dataframe that drops these values\n",
    "sz = dt_eng.dropna( how='any', subset=['Sales'])\n",
    "sales_zeros=(sz[\"Sales\"] == 0)\n",
    "sz = sz.loc[~sales_zeros, :]\n",
    "\n",
    "#i use the sz in the groupby\n",
    "dt_eng = dt_eng.join(sz.groupby(\"StoreType\")[\"Sales\"].mean(), how=\"left\", on=\"StoreType\", rsuffix=\"_avg_storetype\")"
   ]
  },
  {
   "cell_type": "code",
   "execution_count": 71,
   "id": "1913724e-ad3e-458b-bb71-45d2183a2728",
   "metadata": {},
   "outputs": [
    {
     "data": {
      "text/plain": [
       "Index(['Date', 'Store', 'DayOfWeek', 'Sales', 'Open', 'Promo', 'StateHoliday',\n",
       "       'SchoolHoliday', 'StoreType', 'Assortment', 'CompetitionDistance',\n",
       "       'CompetitionOpenSinceMonth', 'CompetitionOpenSinceYear', 'Promo2',\n",
       "       'Promo2SinceWeek', 'Promo2SinceYear', 'PromoInterval', 'Open_5',\n",
       "       'Open_last5', 'Open_10', 'Open_last10', 'Reopening', 'Reopening_big',\n",
       "       'PublicHoliday', 'Easter', 'Christmas', 'storetype_a', 'storetype_b',\n",
       "       'storetype_c', 'storetype_d', 'Sales_avg_storetype', 'Sales_avg_store',\n",
       "       'Sales_median_store'],\n",
       "      dtype='object')"
      ]
     },
     "execution_count": 71,
     "metadata": {},
     "output_type": "execute_result"
    }
   ],
   "source": [
    "#Store Fixed-Effects\n",
    "#i use the sz again to have the 0 days not affect the mean and median\n",
    "dt_eng = dt_eng.join(sz.groupby(\"Store\")[\"Sales\"].mean(), how=\"left\", on=\"Store\", rsuffix=\"_avg_store\")\n",
    "dt_eng = dt_eng.join(sz.groupby(\"Store\")[\"Sales\"].median(), how=\"left\", on=\"Store\", rsuffix=\"_median_store\")\n",
    "\n",
    "dt_eng.columns"
   ]
  },
  {
   "cell_type": "markdown",
   "id": "6458117b-a33c-4732-87f5-e4d064fd7d9f",
   "metadata": {},
   "source": [
    "### Save our mean encodings for the Store_Sales"
   ]
  },
  {
   "cell_type": "code",
   "execution_count": 72,
   "id": "56b1a86a-28ce-4f4a-a533-1238ab439a57",
   "metadata": {},
   "outputs": [],
   "source": [
    "x = dt_eng.groupby(\"Store\").mean()\n",
    "x = x.loc[:, \"Sales_avg_store\"]\n",
    "data_temp = pd.read_csv(\"../data/store.csv\")\n",
    "data_temp = data_temp.merge(x, how='left', on=None, left_on=\"Store\", right_on=None, left_index=False, right_index=True)\n",
    "data_temp.to_csv(path_or_buf=\"../data/store_AnSeb.csv\")"
   ]
  },
  {
   "cell_type": "markdown",
   "id": "b8350f7a-fd09-44d7-8b52-bd674c0b83ca",
   "metadata": {},
   "source": [
    "## go on feature engineering"
   ]
  },
  {
   "cell_type": "code",
   "execution_count": 73,
   "id": "62acf3d2-6370-4abb-a207-ac1ab1797f86",
   "metadata": {},
   "outputs": [],
   "source": [
    "#Assortment\n",
    "#dt_eng.groupby(\"Assortment\").mean()['Sales']\n",
    "dummies = pd.get_dummies(dt_eng.loc[:, \"Assortment\"], prefix=\"assort\", prefix_sep='_')\n",
    "dt_eng = pd.concat([dt_eng, dummies], axis=1)"
   ]
  },
  {
   "cell_type": "code",
   "execution_count": 74,
   "id": "d91afe58-cc7f-4caf-afc6-3d3bce958e30",
   "metadata": {},
   "outputs": [
    {
     "data": {
      "text/plain": [
       "Index(['Date', 'Store', 'DayOfWeek', 'Sales', 'Open', 'Promo', 'StateHoliday',\n",
       "       'SchoolHoliday', 'StoreType', 'Assortment', 'CompetitionDistance',\n",
       "       'CompetitionOpenSinceMonth', 'CompetitionOpenSinceYear', 'Promo2',\n",
       "       'Promo2SinceWeek', 'Promo2SinceYear', 'PromoInterval', 'Open_5',\n",
       "       'Open_last5', 'Open_10', 'Open_last10', 'Reopening', 'Reopening_big',\n",
       "       'PublicHoliday', 'Easter', 'Christmas', 'storetype_a', 'storetype_b',\n",
       "       'storetype_c', 'storetype_d', 'Sales_avg_storetype', 'Sales_avg_store',\n",
       "       'Sales_median_store', 'assort_a', 'assort_b', 'assort_c'],\n",
       "      dtype='object')"
      ]
     },
     "execution_count": 74,
     "metadata": {},
     "output_type": "execute_result"
    }
   ],
   "source": [
    "dt_eng.columns"
   ]
  },
  {
   "cell_type": "markdown",
   "id": "84b55f11-eb21-4e28-81de-3652fc22bc66",
   "metadata": {},
   "source": [
    "### put in interactions"
   ]
  },
  {
   "cell_type": "code",
   "execution_count": 75,
   "id": "fe230001-cfc8-4f61-8281-3f40f01b5e00",
   "metadata": {},
   "outputs": [],
   "source": [
    "#do different store types react differently to christmas?\n",
    "#plt.bar(dt_eng[\"DayOfWeek\"], height=dt_eng[\"Sales\"])\n",
    "#plt.show()"
   ]
  },
  {
   "cell_type": "code",
   "execution_count": 76,
   "id": "c8f032c2-5f61-45b0-a503-febe8af5f09b",
   "metadata": {},
   "outputs": [],
   "source": [
    "#import plotly.express as px\n",
    "#fig = px.bar(dt_eng, x='year', y='pop')\n",
    "#fig.show()"
   ]
  },
  {
   "cell_type": "code",
   "execution_count": 77,
   "id": "fda81062-dae3-414a-9b6f-f3399e72e34d",
   "metadata": {},
   "outputs": [],
   "source": [
    "#Storetypes reacting to Christmas\n",
    "dt_eng.loc[:, \"SAXmas\"] = dt_eng.storetype_a * dt_eng.Christmas\n",
    "dt_eng.loc[:, \"SBXmas\"] = dt_eng.storetype_b * dt_eng.Christmas\n",
    "dt_eng.loc[:, \"SCXmas\"] = dt_eng.storetype_c * dt_eng.Christmas\n",
    "dt_eng.loc[:, \"SDXmas\"] = dt_eng.storetype_d * dt_eng.Christmas\n",
    "\n",
    "dt_eng.loc[:, \"logDistance\"] = np.log(dt_eng.loc[:, \"CompetitionDistance\"])"
   ]
  },
  {
   "cell_type": "markdown",
   "id": "bb27beb9-86ed-4332-b970-92f0634f4bd8",
   "metadata": {},
   "source": [
    "## Drop the Sales = 0 (after feature engineering)"
   ]
  },
  {
   "cell_type": "code",
   "execution_count": 78,
   "id": "2dddcbfd-ac56-4a60-80e9-a4205959e674",
   "metadata": {},
   "outputs": [],
   "source": [
    "dt_eng = dt_eng.dropna( how='any', subset=['Sales'])\n",
    "sales_zeros=(dt_eng[\"Sales\"] == 0)\n",
    "dt_eng = dt_eng.loc[~sales_zeros, :]"
   ]
  },
  {
   "cell_type": "markdown",
   "id": "917709a6-93be-4440-8515-1249d02cb127",
   "metadata": {},
   "source": [
    "## Impute some Vaues"
   ]
  },
  {
   "cell_type": "code",
   "execution_count": 79,
   "id": "51b28320-adae-4e0d-b153-5742b57593fd",
   "metadata": {},
   "outputs": [],
   "source": [
    "#impute the School Holiday\n",
    "dt_eng[\"SchoolHoliday\"] = dt_eng[\"SchoolHoliday\"].fillna(0)\n",
    "dt_eng['CompetitionDistance'] = dt_eng['CompetitionDistance'].fillna(dt_eng['CompetitionDistance'].mean())\n",
    "dt_eng['logDistance'] = dt_eng['logDistance'].fillna(dt_eng['logDistance'].mean())"
   ]
  },
  {
   "cell_type": "code",
   "execution_count": null,
   "id": "85912804-73d2-4634-9989-d7cf0e7d517d",
   "metadata": {},
   "outputs": [],
   "source": [
    "shop2 = (dt_eng_nomissing.loc[:, \"Store\"]==2) | (dt_eng_nomissing.loc[:, \"Store\"]==3) \n",
    "px.scatter(dt_eng_nomissing[shop2], x=\"Date\", y=\"Sales\",  facet_row='Store', color=\"month\", hover_name=\"firstdaysweek13\")\n"
   ]
  },
  {
   "cell_type": "markdown",
   "id": "fd66af57-91f8-4f92-9760-dbd171921df1",
   "metadata": {},
   "source": [
    "### time series stuff"
   ]
  },
  {
   "cell_type": "code",
   "execution_count": 80,
   "id": "b24be9ee-6efe-448e-9f8f-148e4a45225d",
   "metadata": {},
   "outputs": [],
   "source": [
    "#MOVING 7 day average (but i think we will not have this fpr the prediction so i dont use it)\n",
    "#dt_eng['Sales_MA7'] = \n",
    "dt_eng = dt_eng.dropna( how='any', subset=[\"Store\"])\n",
    "#Moving Average 7 day\n",
    "#dt_eng['Sales_MA7'] = dt_eng.groupby('Store')['Sales'].transform(lambda x: x.rolling(7, 1).mean())\n"
   ]
  },
  {
   "cell_type": "code",
   "execution_count": 81,
   "id": "1531bd29-d042-43ab-a809-ca5da183bf72",
   "metadata": {},
   "outputs": [
    {
     "name": "stderr",
     "output_type": "stream",
     "text": [
      "<ipython-input-81-907aadee8390>:4: FutureWarning:\n",
      "\n",
      "weekofyear and week have been deprecated, please use DatetimeIndex.isocalendar().week instead, which returns a Series.  To exactly reproduce the behavior of week and weekofyear and return an Index, you may call pd.Int64Index(idx.isocalendar().week)\n",
      "\n"
     ]
    }
   ],
   "source": [
    "##Add Monthly Fixed Effects\n",
    "dt_eng['day'] = pd.DatetimeIndex(dt_eng['Date']).day\n",
    "dt_eng['month'] = pd.DatetimeIndex(dt_eng['Date']).month\n",
    "dt_eng['week'] = pd.DatetimeIndex(dt_eng['Date']).week\n",
    "dt_eng['year'] = pd.DatetimeIndex(dt_eng['Date']).year"
   ]
  },
  {
   "cell_type": "code",
   "execution_count": 82,
   "id": "9332c97b-4011-4c51-b298-329afeb39b4b",
   "metadata": {},
   "outputs": [],
   "source": [
    "dummies = pd.get_dummies(dt_eng.loc[:, \"month\"], prefix=\"m\", prefix_sep='_')\n",
    "dt_eng = pd.concat([dt_eng, dummies], axis=1)\n"
   ]
  },
  {
   "cell_type": "code",
   "execution_count": 83,
   "id": "6037c738-2c5d-4640-8ae0-44d6727c38db",
   "metadata": {},
   "outputs": [],
   "source": [
    "dt_eng = dt_eng.dropna( how='any', subset=[\"DayOfWeek\"])\n",
    "dummies = pd.get_dummies(dt_eng.loc[:, \"DayOfWeek\"].astype(int), prefix=\"dow\", prefix_sep='_')\n",
    "dt_eng = pd.concat([dt_eng, dummies], axis=1)"
   ]
  },
  {
   "cell_type": "code",
   "execution_count": 84,
   "id": "daef36e6-cc78-41e8-8034-6862011f4f3a",
   "metadata": {},
   "outputs": [],
   "source": [
    "#Beginning of the month craze\n",
    "dt_eng[\"monthstart\"] = (dt_eng.day>=30) | ( dt_eng.day<=3)"
   ]
  },
  {
   "cell_type": "code",
   "execution_count": 85,
   "id": "e65cf86a-b010-448d-808e-0d92b329f981",
   "metadata": {},
   "outputs": [],
   "source": [
    "#i want to have a promo counter. i assume that a promo is effective for 1 month (30 days). If a new Promo2 starts, it is set to 30 and then decreases daily\n",
    "#if the promo is \n",
    "store23 = (dt_eng.loc[:, \"Store\"]==30)\n",
    "\n",
    "dt_eng[\"prstart\"] = (dt_eng.Promo2SinceWeek <= dt_eng.week) & (dt_eng.Promo2SinceYear <= dt_eng.year)\n"
   ]
  },
  {
   "cell_type": "code",
   "execution_count": 86,
   "id": "97852eb4-3bf0-4372-98a8-0b7b072cb820",
   "metadata": {},
   "outputs": [],
   "source": [
    "dt_eng = pd.concat([dt_eng, dt_eng[\"PromoInterval\"].str.split(',', expand=True)], axis=1)"
   ]
  },
  {
   "cell_type": "code",
   "execution_count": 87,
   "id": "0534dd31-4408-455c-b765-8f5bf9c0c8b9",
   "metadata": {
    "tags": []
   },
   "outputs": [],
   "source": [
    "def mnames(s):\n",
    "    if s==\"Jan\":\n",
    "        return 1\n",
    "    if s==\"Feb\":\n",
    "        return 2\n",
    "    if s==\"Mar\":\n",
    "        return 3\n",
    "    if s==\"Apr\":\n",
    "        return 4\n",
    "    if s==\"May\":\n",
    "        return 5\n",
    "    if s==\"Jun\":\n",
    "        return 6\n",
    "    if s==\"Jul\":\n",
    "        return 7\n",
    "    if s==\"Aug\":\n",
    "        return 8\n",
    "    if s==\"Sept\":\n",
    "        return 9\n",
    "    if s==\"Oct\":\n",
    "        return 10\n",
    "    if s==\"Nov\":\n",
    "        return 11\n",
    "    if s==\"Dec\":\n",
    "        return 12"
   ]
  },
  {
   "cell_type": "code",
   "execution_count": 88,
   "id": "12966888-2b6e-4291-83fd-ec3dd9a49c51",
   "metadata": {},
   "outputs": [
    {
     "data": {
      "text/html": [
       "<div>\n",
       "<style scoped>\n",
       "    .dataframe tbody tr th:only-of-type {\n",
       "        vertical-align: middle;\n",
       "    }\n",
       "\n",
       "    .dataframe tbody tr th {\n",
       "        vertical-align: top;\n",
       "    }\n",
       "\n",
       "    .dataframe thead th {\n",
       "        text-align: right;\n",
       "    }\n",
       "</style>\n",
       "<table border=\"1\" class=\"dataframe\">\n",
       "  <thead>\n",
       "    <tr style=\"text-align: right;\">\n",
       "      <th></th>\n",
       "      <th>month</th>\n",
       "      <th>pr1</th>\n",
       "      <th>pr2</th>\n",
       "      <th>pr3</th>\n",
       "      <th>pr4</th>\n",
       "      <th>themonth</th>\n",
       "      <th>pr_campaign</th>\n",
       "      <th>prstart</th>\n",
       "    </tr>\n",
       "  </thead>\n",
       "  <tbody>\n",
       "    <tr>\n",
       "      <th>27</th>\n",
       "      <td>1</td>\n",
       "      <td>2.0</td>\n",
       "      <td>5.0</td>\n",
       "      <td>8.0</td>\n",
       "      <td>11.0</td>\n",
       "      <td>False</td>\n",
       "      <td>False</td>\n",
       "      <td>False</td>\n",
       "    </tr>\n",
       "    <tr>\n",
       "      <th>115</th>\n",
       "      <td>1</td>\n",
       "      <td>1.0</td>\n",
       "      <td>4.0</td>\n",
       "      <td>7.0</td>\n",
       "      <td>10.0</td>\n",
       "      <td>True</td>\n",
       "      <td>False</td>\n",
       "      <td>False</td>\n",
       "    </tr>\n",
       "    <tr>\n",
       "      <th>147</th>\n",
       "      <td>1</td>\n",
       "      <td>3.0</td>\n",
       "      <td>6.0</td>\n",
       "      <td>9.0</td>\n",
       "      <td>12.0</td>\n",
       "      <td>False</td>\n",
       "      <td>False</td>\n",
       "      <td>False</td>\n",
       "    </tr>\n",
       "    <tr>\n",
       "      <th>162</th>\n",
       "      <td>1</td>\n",
       "      <td>NaN</td>\n",
       "      <td>NaN</td>\n",
       "      <td>NaN</td>\n",
       "      <td>NaN</td>\n",
       "      <td>False</td>\n",
       "      <td>False</td>\n",
       "      <td>False</td>\n",
       "    </tr>\n",
       "    <tr>\n",
       "      <th>199</th>\n",
       "      <td>1</td>\n",
       "      <td>NaN</td>\n",
       "      <td>NaN</td>\n",
       "      <td>NaN</td>\n",
       "      <td>NaN</td>\n",
       "      <td>False</td>\n",
       "      <td>False</td>\n",
       "      <td>False</td>\n",
       "    </tr>\n",
       "    <tr>\n",
       "      <th>...</th>\n",
       "      <td>...</td>\n",
       "      <td>...</td>\n",
       "      <td>...</td>\n",
       "      <td>...</td>\n",
       "      <td>...</td>\n",
       "      <td>...</td>\n",
       "      <td>...</td>\n",
       "      <td>...</td>\n",
       "    </tr>\n",
       "    <tr>\n",
       "      <th>637768</th>\n",
       "      <td>7</td>\n",
       "      <td>1.0</td>\n",
       "      <td>4.0</td>\n",
       "      <td>7.0</td>\n",
       "      <td>10.0</td>\n",
       "      <td>True</td>\n",
       "      <td>True</td>\n",
       "      <td>True</td>\n",
       "    </tr>\n",
       "    <tr>\n",
       "      <th>637769</th>\n",
       "      <td>7</td>\n",
       "      <td>2.0</td>\n",
       "      <td>5.0</td>\n",
       "      <td>8.0</td>\n",
       "      <td>11.0</td>\n",
       "      <td>False</td>\n",
       "      <td>False</td>\n",
       "      <td>True</td>\n",
       "    </tr>\n",
       "    <tr>\n",
       "      <th>637771</th>\n",
       "      <td>7</td>\n",
       "      <td>3.0</td>\n",
       "      <td>6.0</td>\n",
       "      <td>9.0</td>\n",
       "      <td>12.0</td>\n",
       "      <td>False</td>\n",
       "      <td>False</td>\n",
       "      <td>True</td>\n",
       "    </tr>\n",
       "    <tr>\n",
       "      <th>637772</th>\n",
       "      <td>7</td>\n",
       "      <td>NaN</td>\n",
       "      <td>NaN</td>\n",
       "      <td>NaN</td>\n",
       "      <td>NaN</td>\n",
       "      <td>False</td>\n",
       "      <td>False</td>\n",
       "      <td>False</td>\n",
       "    </tr>\n",
       "    <tr>\n",
       "      <th>637773</th>\n",
       "      <td>7</td>\n",
       "      <td>NaN</td>\n",
       "      <td>NaN</td>\n",
       "      <td>NaN</td>\n",
       "      <td>NaN</td>\n",
       "      <td>False</td>\n",
       "      <td>False</td>\n",
       "      <td>False</td>\n",
       "    </tr>\n",
       "  </tbody>\n",
       "</table>\n",
       "<p>482566 rows × 8 columns</p>\n",
       "</div>"
      ],
      "text/plain": [
       "        month  pr1  pr2  pr3   pr4  themonth  pr_campaign  prstart\n",
       "27          1  2.0  5.0  8.0  11.0     False        False    False\n",
       "115         1  1.0  4.0  7.0  10.0      True        False    False\n",
       "147         1  3.0  6.0  9.0  12.0     False        False    False\n",
       "162         1  NaN  NaN  NaN   NaN     False        False    False\n",
       "199         1  NaN  NaN  NaN   NaN     False        False    False\n",
       "...       ...  ...  ...  ...   ...       ...          ...      ...\n",
       "637768      7  1.0  4.0  7.0  10.0      True         True     True\n",
       "637769      7  2.0  5.0  8.0  11.0     False        False     True\n",
       "637771      7  3.0  6.0  9.0  12.0     False        False     True\n",
       "637772      7  NaN  NaN  NaN   NaN     False        False    False\n",
       "637773      7  NaN  NaN  NaN   NaN     False        False    False\n",
       "\n",
       "[482566 rows x 8 columns]"
      ]
     },
     "execution_count": 88,
     "metadata": {},
     "output_type": "execute_result"
    }
   ],
   "source": [
    "dt_eng.loc[:, 'pr1'] = dt_eng.loc[:, 0].apply(lambda row : mnames(row))\n",
    "dt_eng.loc[:, 'pr2'] = dt_eng.loc[:, 1].apply(lambda row : mnames(row))\n",
    "dt_eng.loc[:, 'pr3'] = dt_eng.loc[:, 2].apply(lambda row : mnames(row))\n",
    "dt_eng.loc[:, 'pr4'] = dt_eng.loc[:, 3].apply(lambda row : mnames(row))\n",
    "\n",
    "dt_eng.loc[:, \"themonth\"] = (dt_eng['pr1'] == dt_eng[\"month\"])|(dt_eng['pr2'] == dt_eng[\"month\"])|(dt_eng['pr4'] == dt_eng[\"month\"])|(dt_eng['pr3'] == dt_eng[\"month\"])  \n",
    "dt_eng[\"pr_campaign\"] = (dt_eng['prstart']==True) & (dt_eng[\"themonth\"] == True)\n",
    "dt_eng.loc[:, [\"month\", \"pr1\", \"pr2\", \"pr3\", \"pr4\", \"themonth\", \"pr_campaign\", \"prstart\"]]                \n",
    "#dt_eng[\"pr_campaign\"].value_counts()"
   ]
  },
  {
   "cell_type": "code",
   "execution_count": 89,
   "id": "32500792-6fd4-4412-8eae-8c8b8cd1fd3c",
   "metadata": {},
   "outputs": [],
   "source": [
    "# Make a Variable that counts the days since day 1\n",
    "dt_eng['Date'] = pd.to_datetime(dt_eng['Date']) \n",
    "\n",
    "dt_eng['date_delta'] = (dt_eng['Date'] - dt_eng['Date'].min())  / np.timedelta64(1,'D')\n",
    "#dt_eng"
   ]
  },
  {
   "cell_type": "code",
   "execution_count": 90,
   "id": "2315fc8a-0f5d-4447-a931-c4b2e108b4f4",
   "metadata": {},
   "outputs": [
    {
     "data": {
      "text/plain": [
       "False    475220\n",
       "True       7346\n",
       "Name: City_center, dtype: int64"
      ]
     },
     "execution_count": 90,
     "metadata": {},
     "output_type": "execute_result"
    }
   ],
   "source": [
    "#Define 'City_Center' =1 if distance <800 & competition open since year <2004\n",
    "dt_eng['City_center'] = (dt_eng['CompetitionDistance'] < 500) &(dt_eng['CompetitionOpenSinceYear'] < 2004)\n",
    "dt_eng.City_center.value_counts()"
   ]
  },
  {
   "cell_type": "code",
   "execution_count": 91,
   "id": "3020d4f7-d7f5-4b0b-9b5b-b46ec06befeb",
   "metadata": {},
   "outputs": [],
   "source": [
    "#checkoing the data, one can see that in uneven weeks the first 3 days are selling especially well, this is one way to make it\n",
    "dt_eng['week1'] = ((dt_eng['week'] % 4) == 0) \n",
    "dt_eng['week3'] = ((dt_eng['week'] % 4) == 2)\n",
    "dt_eng['week13'] = ((dt_eng['week'] % 4) == 0) | ((dt_eng['week'] % 4) == 2)\n",
    "dt_eng['week13'].value_counts()\n",
    "dt_eng['firstdaysweek13'] = ((dt_eng['week13']) == True) & (dt_eng['DayOfWeek'] < 4 )"
   ]
  },
  {
   "cell_type": "code",
   "execution_count": 92,
   "id": "b44d65a0-eddf-4413-af28-5bc5296b8a1c",
   "metadata": {},
   "outputs": [
    {
     "data": {
      "text/plain": [
       "4.0     81666\n",
       "6.0     80508\n",
       "2.0     80235\n",
       "12.0    41272\n",
       "3.0     41082\n",
       "5.0     40302\n",
       "10.0    39728\n",
       "1.0     39261\n",
       "8.0     36507\n",
       "14.0     1003\n",
       "7.0      1002\n",
       "Name: Fortnight_Days, dtype: int64"
      ]
     },
     "execution_count": 92,
     "metadata": {},
     "output_type": "execute_result"
    }
   ],
   "source": [
    "#another way is to code the weekdays separately.... \n",
    "dt_eng[\"Fortnight_Days\"] = dt_eng[\"DayOfWeek\"]\n",
    "dt_eng.Fortnight_Days.value_counts()\n",
    "dt_eng.loc[dt_eng['week13']==True, \"Fortnight_Days\"] = dt_eng[\"Fortnight_Days\"] * 2 \n",
    "dt_eng.Fortnight_Days.value_counts()\n"
   ]
  },
  {
   "cell_type": "markdown",
   "id": "0fc6a12b-6a8a-4836-82b0-162af4b2eff3",
   "metadata": {},
   "source": [
    "## Final Feature selection"
   ]
  },
  {
   "cell_type": "code",
   "execution_count": null,
   "id": "2ce2ce04-02ed-4a69-be4e-917a2ff55eb4",
   "metadata": {},
   "outputs": [],
   "source": []
  },
  {
   "cell_type": "code",
   "execution_count": null,
   "id": "f18d67cf-45b2-4aa2-b0f8-0a9c0ec6b9b4",
   "metadata": {},
   "outputs": [],
   "source": [
    "dic = {7: 1, 1: 2, 2:3, 3:4, 4:5, 5: 6 , 6: 7}\n",
    "dt_eng['DayOfWeek_recode'] = dt_eng['DayOfWeek'].replace(dic)"
   ]
  },
  {
   "cell_type": "code",
   "execution_count": 95,
   "id": "8800b88e-60ba-480e-89b1-0d9d6b2ae1cb",
   "metadata": {},
   "outputs": [],
   "source": [
    "\n",
    "features = [ \"Store\", 'SchoolHoliday', 'logDistance', 'prstart', 'Promo2', 'PublicHoliday', 'Easter', 'Christmas' \n",
    "            , 'Sales_avg_store', 'storetype_a', 'storetype_b', 'storetype_c', 'storetype_d', 'assort_a', 'assort_b', 'assort_c',\n",
    "            \"monthstart\", \"date_delta\", \"City_center\", \"firstdaysweek13\", \n",
    "           \"m_12\", \"Fortnight_Days\", \"DayOfWeek_recode\",\n",
    "           \"dow_1\", \"dow_5\", \"dow_6\",  \"dow_2\", \"dow_3\", \"dow_4\",\"dow_7\" , \"pr_campaign\", \"Reopening\"]\n"
   ]
  },
  {
   "cell_type": "code",
   "execution_count": 96,
   "id": "db335dfc-dcec-46a9-a528-24bd587ec2bb",
   "metadata": {},
   "outputs": [],
   "source": [
    "#dt_eng[features].isnull().sum()"
   ]
  },
  {
   "cell_type": "code",
   "execution_count": 97,
   "id": "8ddd3566-86d2-453b-9e1d-1715efe31d1a",
   "metadata": {},
   "outputs": [],
   "source": [
    "dt_eng_nomissing = dt_eng.dropna( how='any', subset=features)\n",
    "X = dt_eng_nomissing.loc[:, features ]\n",
    "y = dt_eng_nomissing.loc[:, 'Sales']"
   ]
  },
  {
   "cell_type": "code",
   "execution_count": 98,
   "id": "f19cec30-5eb2-4717-92a3-0caa7702597e",
   "metadata": {},
   "outputs": [],
   "source": [
    "#X.isnull().sum()"
   ]
  },
  {
   "cell_type": "code",
   "execution_count": 99,
   "id": "a1728ee9-57c3-4322-b463-b12c6595d482",
   "metadata": {
    "tags": []
   },
   "outputs": [],
   "source": [
    "#import plotly.express as px\n",
    "#fig = px.scatter(X.loc[:, \"DayOfWeek\"], y)\n",
    "#fig.show()"
   ]
  },
  {
   "cell_type": "code",
   "execution_count": 100,
   "id": "fbe3924e-9e76-4003-88c0-dd2d0fe0fcac",
   "metadata": {},
   "outputs": [
    {
     "data": {
      "text/plain": [
       "Store               482566\n",
       "SchoolHoliday       482566\n",
       "logDistance         482566\n",
       "prstart             482566\n",
       "Promo2              482566\n",
       "PublicHoliday       482566\n",
       "Easter              482566\n",
       "Christmas           482566\n",
       "Sales_avg_store     482566\n",
       "storetype_a         482566\n",
       "storetype_b         482566\n",
       "storetype_c         482566\n",
       "storetype_d         482566\n",
       "assort_a            482566\n",
       "assort_b            482566\n",
       "assort_c            482566\n",
       "monthstart          482566\n",
       "date_delta          482566\n",
       "City_center         482566\n",
       "firstdaysweek13     482566\n",
       "m_12                482566\n",
       "Fortnight_Days      482566\n",
       "DayOfWeek_recode    482566\n",
       "dow_1               482566\n",
       "dow_5               482566\n",
       "dow_6               482566\n",
       "dow_2               482566\n",
       "dow_3               482566\n",
       "dow_4               482566\n",
       "dow_7               482566\n",
       "pr_campaign         482566\n",
       "Reopening           482566\n",
       "dtype: int64"
      ]
     },
     "execution_count": 100,
     "metadata": {},
     "output_type": "execute_result"
    }
   ],
   "source": [
    "X.count()"
   ]
  },
  {
   "cell_type": "markdown",
   "id": "b27fa58e-7f38-40e2-aab9-0e6a42c6d7d0",
   "metadata": {},
   "source": [
    "## Split Data in Test/Train"
   ]
  },
  {
   "cell_type": "code",
   "execution_count": 101,
   "id": "bd011b88-4f3d-4106-8d7c-116fabddea4c",
   "metadata": {},
   "outputs": [],
   "source": [
    "X_train, X_test, y_train, y_test = train_test_split(X, y, test_size=0.20, train_size=0.80, random_state=42, shuffle=True, stratify=X[\"Store\"])"
   ]
  },
  {
   "cell_type": "code",
   "execution_count": 102,
   "id": "1470cafa-b7e5-4f86-b9c4-5debf7f8c7eb",
   "metadata": {},
   "outputs": [],
   "source": [
    "X_train = X_train.drop(\"Store\", axis=1)\n",
    "X_test = X_test.drop(\"Store\", axis=1)\n",
    "X = X.drop(\"Store\", axis=1)"
   ]
  },
  {
   "cell_type": "code",
   "execution_count": null,
   "id": "cd124184-db5e-441d-bf4e-b667723ba33a",
   "metadata": {},
   "outputs": [],
   "source": []
  },
  {
   "cell_type": "code",
   "execution_count": 103,
   "id": "73c71d7a-075c-4899-b39a-ec7c230fc67d",
   "metadata": {},
   "outputs": [],
   "source": [
    "import xgboost as xgb\n",
    "from sklearn.model_selection import GridSearchCV"
   ]
  },
  {
   "cell_type": "code",
   "execution_count": 104,
   "id": "31f7e9ed-7cd4-4e89-83f0-234a280a6c26",
   "metadata": {},
   "outputs": [],
   "source": [
    "def rmspe(preds, actuals):\n",
    "    #preds = preds.reshape(-1)\n",
    "    #actuals = actuals.reshape(-1)\n",
    "    #assert preds.shape == actuals.shape\n",
    "    return np.sqrt(np.mean(np.square((actuals-preds) / actuals))) * 100"
   ]
  },
  {
   "cell_type": "code",
   "execution_count": 105,
   "id": "a0f26533-c8f3-4322-a7aa-b8de2fad7319",
   "metadata": {},
   "outputs": [],
   "source": [
    "def algorithm_pipeline(X_train_data, X_test_data, y_train_data, y_test_data, \n",
    "                       model, param_grid, cv=10, scoring_fit='neg_mean_squared_error',\n",
    "                       do_probabilities = False):\n",
    "    gs = GridSearchCV(\n",
    "        estimator=model,\n",
    "        param_grid=param_grid, \n",
    "        cv=cv, \n",
    "        n_jobs=-1, \n",
    "        scoring=scoring_fit,\n",
    "        verbose=3\n",
    "    )\n",
    "    fitted_model = gs.fit(X_train_data, y_train_data)\n",
    "    \n",
    "    if do_probabilities:\n",
    "      pred = fitted_model.predict_proba(X_test_data)\n",
    "    else:\n",
    "      pred = fitted_model.predict(X_test_data)\n",
    "    \n",
    "    return fitted_model, pred"
   ]
  },
  {
   "cell_type": "code",
   "execution_count": 106,
   "id": "90d840aa-a0c8-45b2-ba8e-bdc1664f36a8",
   "metadata": {},
   "outputs": [
    {
     "name": "stdout",
     "output_type": "stream",
     "text": [
      "Fitting 10 folds for each of 1 candidates, totalling 10 fits\n",
      "1645.9455567224413\n",
      "{'colsample_bytree': 0.7, 'learning_rate': 0.1, 'max_depth': 5, 'n_estimators': 1000, 'reg_alpha': 1.1, 'reg_lambda': 1.3, 'subsample': 0.9}\n"
     ]
    }
   ],
   "source": [
    "model = xgb.XGBRegressor()\n",
    "param_grid = {\n",
    "    'n_estimators': [1000],\n",
    "    'learning_rate' : [0.1],\n",
    "    'colsample_bytree': [0.7],\n",
    "    'max_depth': [5],\n",
    "    'reg_alpha': [1.1],\n",
    "    'reg_lambda': [1.3],\n",
    "    'subsample': [0.9]\n",
    "}\n",
    "\n",
    "\n",
    "\n",
    "model, pred = algorithm_pipeline(X, X_test, y, y_test, model, \n",
    "                                 param_grid, cv=10)\n",
    "\n",
    "# Root Mean Squared Error\n",
    "print(np.sqrt(-model.best_score_))\n",
    "print(model.best_params_)"
   ]
  },
  {
   "cell_type": "code",
   "execution_count": null,
   "id": "665c8153-fdfb-4f0d-ad14-21260764c19d",
   "metadata": {},
   "outputs": [
    {
     "data": {
      "text/plain": [
       "15.505607655510964"
      ]
     },
     "execution_count": 107,
     "metadata": {},
     "output_type": "execute_result"
    }
   ],
   "source": [
    "rmspe(model.predict(X_test), y_test)"
   ]
  },
  {
   "cell_type": "code",
   "execution_count": null,
   "id": "d62d5143-605f-47bf-9264-4da0d6296e7a",
   "metadata": {},
   "outputs": [
    {
     "ename": "SyntaxError",
     "evalue": "unexpected EOF while parsing (<ipython-input-108-5067e49df48b>, line 7)",
     "output_type": "error",
     "traceback": [
      "\u001b[0;36m  File \u001b[0;32m\"<ipython-input-108-5067e49df48b>\"\u001b[0;36m, line \u001b[0;32m7\u001b[0m\n\u001b[0;31m    'pr_campaign', 'Reopening'],\u001b[0m\n\u001b[0m                                ^\u001b[0m\n\u001b[0;31mSyntaxError\u001b[0m\u001b[0;31m:\u001b[0m unexpected EOF while parsing\n"
     ]
    }
   ],
   "source": [
    "Index(['Store', 'SchoolHoliday', 'logDistance', 'prstart', 'Promo2',\n",
    "       'PublicHoliday', 'Easter', 'Christmas', 'Sales_avg_store',\n",
    "       'storetype_a', 'storetype_b', 'storetype_c', 'storetype_d', 'assort_a',\n",
    "       'assort_b', 'assort_c', 'monthstart', 'date_delta', 'City_center',\n",
    "       'firstdaysweek13', 'm_12', 'Fortnight_Days', 'DayOfWeek_recode',\n",
    "       'dow_1', 'dow_5', 'dow_6', 'dow_2', 'dow_3', 'dow_4', 'dow_7',\n",
    "       'pr_campaign', 'Reopening'],"
   ]
  },
  {
   "cell_type": "code",
   "execution_count": null,
   "id": "c47b1f27-62e8-4b16-9293-ee1d73f03089",
   "metadata": {},
   "outputs": [],
   "source": [
    "X_train.columns"
   ]
  },
  {
   "cell_type": "code",
   "execution_count": null,
   "id": "936b734b-bfd4-4c9d-9689-9879264c5ddd",
   "metadata": {},
   "outputs": [],
   "source": [
    "# save the model to disk \n",
    "pickle.dump(model, open('model_AnSeb2.sav', 'wb'))"
   ]
  },
  {
   "cell_type": "code",
   "execution_count": null,
   "id": "71d75f01-d628-4e94-8037-6d0bcb9db890",
   "metadata": {},
   "outputs": [],
   "source": []
  }
 ],
 "metadata": {
  "kernelspec": {
   "display_name": "Python 3",
   "language": "python",
   "name": "python3"
  },
  "language_info": {
   "codemirror_mode": {
    "name": "ipython",
    "version": 3
   },
   "file_extension": ".py",
   "mimetype": "text/x-python",
   "name": "python",
   "nbconvert_exporter": "python",
   "pygments_lexer": "ipython3",
   "version": "3.8.8"
  }
 },
 "nbformat": 4,
 "nbformat_minor": 5
}

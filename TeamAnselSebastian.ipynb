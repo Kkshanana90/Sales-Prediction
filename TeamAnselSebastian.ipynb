{
 "cells": [
  {
   "cell_type": "code",
   "execution_count": 469,
   "id": "bf3acf78-d874-4b57-b615-7d9ee3ff0cd9",
   "metadata": {},
   "outputs": [],
   "source": [
    "import pandas as pd\n",
    "import numpy as np\n",
    "from sklearn.model_selection import train_test_split\n",
    "from sklearn.linear_model import LinearRegression"
   ]
  },
  {
   "cell_type": "code",
   "execution_count": null,
   "id": "7a43c2e1-bf93-476e-9d3e-68ba2ed5e68a",
   "metadata": {},
   "outputs": [],
   "source": []
  },
  {
   "cell_type": "code",
   "execution_count": null,
   "id": "a13057f9-9c37-4d39-b9a5-e94bb4dcd353",
   "metadata": {},
   "outputs": [],
   "source": []
  },
  {
   "cell_type": "markdown",
   "id": "642dea00-bf39-44d0-bf94-151ba726ede8",
   "metadata": {},
   "source": [
    "## Open Data"
   ]
  },
  {
   "cell_type": "code",
   "execution_count": 470,
   "id": "e250663c-8c57-4ae0-a482-f9df2bc79fe2",
   "metadata": {},
   "outputs": [
    {
     "name": "stderr",
     "output_type": "stream",
     "text": [
      "/Users/selbo/opt/anaconda3/lib/python3.8/site-packages/IPython/core/interactiveshell.py:3165: DtypeWarning: Columns (7) have mixed types.Specify dtype option on import or set low_memory=False.\n",
      "  has_raised = await self.run_ast_nodes(code_ast.body, cell_name,\n"
     ]
    },
    {
     "data": {
      "text/plain": [
       "(637774, 9)"
      ]
     },
     "execution_count": 470,
     "metadata": {},
     "output_type": "execute_result"
    }
   ],
   "source": [
    "dt = pd.read_csv(\"data/train.csv\")\n",
    "dt.shape"
   ]
  },
  {
   "cell_type": "code",
   "execution_count": 471,
   "id": "605bb490-dd1a-4940-8246-2094b4f6e098",
   "metadata": {
    "tags": []
   },
   "outputs": [],
   "source": [
    "def rmspe(preds, actuals):\n",
    "    preds = preds.reshape(-1)\n",
    "    actuals = actuals.reshape(-1)\n",
    "    assert preds.shape == actuals.shape\n",
    "    return 100 * np.linalg.norm((actuals - preds) / actuals) / np.sqrt(preds.shape[0])"
   ]
  },
  {
   "cell_type": "markdown",
   "id": "1ad8d657-6d2c-4874-8211-076de069bf94",
   "metadata": {
    "tags": []
   },
   "source": [
    "## Clean Data"
   ]
  },
  {
   "cell_type": "code",
   "execution_count": 472,
   "id": "1b38a4a8-fedd-45b4-8004-fde30cf0604d",
   "metadata": {},
   "outputs": [
    {
     "data": {
      "text/plain": [
       "19027"
      ]
     },
     "execution_count": 472,
     "metadata": {},
     "output_type": "execute_result"
    }
   ],
   "source": [
    "# Clear Missing Values for the target variable\n",
    "dt.loc[:, \"Sales\"].isnull().sum()"
   ]
  },
  {
   "cell_type": "code",
   "execution_count": 473,
   "id": "396cc064-35ad-4f0c-a983-e296f5f13027",
   "metadata": {},
   "outputs": [],
   "source": [
    "dt = dt.dropna( how='any', subset=['Sales'])\n",
    "dt = dt.drop(\"Customers\", axis=1)"
   ]
  },
  {
   "cell_type": "code",
   "execution_count": 474,
   "id": "9e9dc763-dce2-4c40-bea3-47216fd622d7",
   "metadata": {},
   "outputs": [],
   "source": [
    "sales_zeros=(dt[\"Sales\"] == 0)\n",
    "dt = dt.loc[~sales_zeros, :]"
   ]
  },
  {
   "cell_type": "code",
   "execution_count": 475,
   "id": "86926deb-3fb1-48ab-a587-cc87d1407836",
   "metadata": {},
   "outputs": [
    {
     "data": {
      "text/plain": [
       "Date                 0\n",
       "Store            15580\n",
       "DayOfWeek        15299\n",
       "Sales                0\n",
       "Open             15455\n",
       "Promo            15439\n",
       "StateHoliday     15560\n",
       "SchoolHoliday    15547\n",
       "dtype: int64"
      ]
     },
     "execution_count": 475,
     "metadata": {},
     "output_type": "execute_result"
    }
   ],
   "source": [
    "dt.isnull().sum()"
   ]
  },
  {
   "cell_type": "code",
   "execution_count": 476,
   "id": "6b5454ed-642b-4ffb-b4c8-4a8b036b73ff",
   "metadata": {},
   "outputs": [
    {
     "data": {
      "text/plain": [
       "6836.975867325853"
      ]
     },
     "execution_count": 476,
     "metadata": {},
     "output_type": "execute_result"
    }
   ],
   "source": [
    "#Baseline\n",
    "dt.loc[:, \"Sales\"].mean()"
   ]
  },
  {
   "cell_type": "code",
   "execution_count": 477,
   "id": "8139571a-1cac-4d20-87a3-f9e5228bc5b3",
   "metadata": {},
   "outputs": [
    {
     "data": {
      "text/html": [
       "<div>\n",
       "<style scoped>\n",
       "    .dataframe tbody tr th:only-of-type {\n",
       "        vertical-align: middle;\n",
       "    }\n",
       "\n",
       "    .dataframe tbody tr th {\n",
       "        vertical-align: top;\n",
       "    }\n",
       "\n",
       "    .dataframe thead th {\n",
       "        text-align: right;\n",
       "    }\n",
       "</style>\n",
       "<table border=\"1\" class=\"dataframe\">\n",
       "  <thead>\n",
       "    <tr style=\"text-align: right;\">\n",
       "      <th></th>\n",
       "      <th>Date</th>\n",
       "      <th>Store</th>\n",
       "      <th>DayOfWeek</th>\n",
       "      <th>Sales</th>\n",
       "      <th>Open</th>\n",
       "      <th>Promo</th>\n",
       "      <th>StateHoliday</th>\n",
       "      <th>SchoolHoliday</th>\n",
       "    </tr>\n",
       "  </thead>\n",
       "  <tbody>\n",
       "    <tr>\n",
       "      <th>27</th>\n",
       "      <td>2013-01-01</td>\n",
       "      <td>353.0</td>\n",
       "      <td>2.0</td>\n",
       "      <td>3139.0</td>\n",
       "      <td>1.0</td>\n",
       "      <td>0.0</td>\n",
       "      <td>a</td>\n",
       "      <td>1.0</td>\n",
       "    </tr>\n",
       "    <tr>\n",
       "      <th>115</th>\n",
       "      <td>2013-01-01</td>\n",
       "      <td>335.0</td>\n",
       "      <td>2.0</td>\n",
       "      <td>2401.0</td>\n",
       "      <td>1.0</td>\n",
       "      <td>0.0</td>\n",
       "      <td>a</td>\n",
       "      <td>1.0</td>\n",
       "    </tr>\n",
       "    <tr>\n",
       "      <th>147</th>\n",
       "      <td>2013-01-01</td>\n",
       "      <td>512.0</td>\n",
       "      <td>2.0</td>\n",
       "      <td>2646.0</td>\n",
       "      <td>1.0</td>\n",
       "      <td>0.0</td>\n",
       "      <td>a</td>\n",
       "      <td>1.0</td>\n",
       "    </tr>\n",
       "    <tr>\n",
       "      <th>162</th>\n",
       "      <td>2013-01-01</td>\n",
       "      <td>494.0</td>\n",
       "      <td>2.0</td>\n",
       "      <td>3113.0</td>\n",
       "      <td>1.0</td>\n",
       "      <td>0.0</td>\n",
       "      <td>a</td>\n",
       "      <td>1.0</td>\n",
       "    </tr>\n",
       "    <tr>\n",
       "      <th>199</th>\n",
       "      <td>2013-01-01</td>\n",
       "      <td>530.0</td>\n",
       "      <td>2.0</td>\n",
       "      <td>2907.0</td>\n",
       "      <td>1.0</td>\n",
       "      <td>0.0</td>\n",
       "      <td>a</td>\n",
       "      <td>1.0</td>\n",
       "    </tr>\n",
       "    <tr>\n",
       "      <th>...</th>\n",
       "      <td>...</td>\n",
       "      <td>...</td>\n",
       "      <td>...</td>\n",
       "      <td>...</td>\n",
       "      <td>...</td>\n",
       "      <td>...</td>\n",
       "      <td>...</td>\n",
       "      <td>...</td>\n",
       "    </tr>\n",
       "    <tr>\n",
       "      <th>637769</th>\n",
       "      <td>2014-07-31</td>\n",
       "      <td>752.0</td>\n",
       "      <td>4.0</td>\n",
       "      <td>7259.0</td>\n",
       "      <td>1.0</td>\n",
       "      <td>1.0</td>\n",
       "      <td>0</td>\n",
       "      <td>1.0</td>\n",
       "    </tr>\n",
       "    <tr>\n",
       "      <th>637770</th>\n",
       "      <td>2014-07-31</td>\n",
       "      <td>753.0</td>\n",
       "      <td>NaN</td>\n",
       "      <td>9938.0</td>\n",
       "      <td>1.0</td>\n",
       "      <td>1.0</td>\n",
       "      <td>0</td>\n",
       "      <td>1.0</td>\n",
       "    </tr>\n",
       "    <tr>\n",
       "      <th>637771</th>\n",
       "      <td>2014-07-31</td>\n",
       "      <td>754.0</td>\n",
       "      <td>4.0</td>\n",
       "      <td>10564.0</td>\n",
       "      <td>1.0</td>\n",
       "      <td>1.0</td>\n",
       "      <td>0</td>\n",
       "      <td>NaN</td>\n",
       "    </tr>\n",
       "    <tr>\n",
       "      <th>637772</th>\n",
       "      <td>2014-07-31</td>\n",
       "      <td>755.0</td>\n",
       "      <td>4.0</td>\n",
       "      <td>12302.0</td>\n",
       "      <td>1.0</td>\n",
       "      <td>1.0</td>\n",
       "      <td>0</td>\n",
       "      <td>1.0</td>\n",
       "    </tr>\n",
       "    <tr>\n",
       "      <th>637773</th>\n",
       "      <td>2014-07-31</td>\n",
       "      <td>751.0</td>\n",
       "      <td>4.0</td>\n",
       "      <td>3913.0</td>\n",
       "      <td>1.0</td>\n",
       "      <td>1.0</td>\n",
       "      <td>0</td>\n",
       "      <td>1.0</td>\n",
       "    </tr>\n",
       "  </tbody>\n",
       "</table>\n",
       "<p>512956 rows × 8 columns</p>\n",
       "</div>"
      ],
      "text/plain": [
       "              Date  Store  DayOfWeek    Sales  Open  Promo StateHoliday  \\\n",
       "27      2013-01-01  353.0        2.0   3139.0   1.0    0.0            a   \n",
       "115     2013-01-01  335.0        2.0   2401.0   1.0    0.0            a   \n",
       "147     2013-01-01  512.0        2.0   2646.0   1.0    0.0            a   \n",
       "162     2013-01-01  494.0        2.0   3113.0   1.0    0.0            a   \n",
       "199     2013-01-01  530.0        2.0   2907.0   1.0    0.0            a   \n",
       "...            ...    ...        ...      ...   ...    ...          ...   \n",
       "637769  2014-07-31  752.0        4.0   7259.0   1.0    1.0            0   \n",
       "637770  2014-07-31  753.0        NaN   9938.0   1.0    1.0            0   \n",
       "637771  2014-07-31  754.0        4.0  10564.0   1.0    1.0            0   \n",
       "637772  2014-07-31  755.0        4.0  12302.0   1.0    1.0            0   \n",
       "637773  2014-07-31  751.0        4.0   3913.0   1.0    1.0            0   \n",
       "\n",
       "        SchoolHoliday  \n",
       "27                1.0  \n",
       "115               1.0  \n",
       "147               1.0  \n",
       "162               1.0  \n",
       "199               1.0  \n",
       "...               ...  \n",
       "637769            1.0  \n",
       "637770            1.0  \n",
       "637771            NaN  \n",
       "637772            1.0  \n",
       "637773            1.0  \n",
       "\n",
       "[512956 rows x 8 columns]"
      ]
     },
     "execution_count": 477,
     "metadata": {},
     "output_type": "execute_result"
    }
   ],
   "source": [
    "dt"
   ]
  },
  {
   "cell_type": "markdown",
   "id": "5f6acce2-674f-4f8f-9167-84123127f7e0",
   "metadata": {},
   "source": [
    "### Join with Stores"
   ]
  },
  {
   "cell_type": "code",
   "execution_count": 478,
   "id": "f7eb4389-9254-4730-9e84-a2a8794c1c41",
   "metadata": {},
   "outputs": [
    {
     "data": {
      "text/html": [
       "<div>\n",
       "<style scoped>\n",
       "    .dataframe tbody tr th:only-of-type {\n",
       "        vertical-align: middle;\n",
       "    }\n",
       "\n",
       "    .dataframe tbody tr th {\n",
       "        vertical-align: top;\n",
       "    }\n",
       "\n",
       "    .dataframe thead th {\n",
       "        text-align: right;\n",
       "    }\n",
       "</style>\n",
       "<table border=\"1\" class=\"dataframe\">\n",
       "  <thead>\n",
       "    <tr style=\"text-align: right;\">\n",
       "      <th></th>\n",
       "      <th>Store</th>\n",
       "      <th>StoreType</th>\n",
       "      <th>Assortment</th>\n",
       "      <th>CompetitionDistance</th>\n",
       "      <th>CompetitionOpenSinceMonth</th>\n",
       "      <th>CompetitionOpenSinceYear</th>\n",
       "      <th>Promo2</th>\n",
       "      <th>Promo2SinceWeek</th>\n",
       "      <th>Promo2SinceYear</th>\n",
       "      <th>PromoInterval</th>\n",
       "    </tr>\n",
       "  </thead>\n",
       "  <tbody>\n",
       "    <tr>\n",
       "      <th>0</th>\n",
       "      <td>1</td>\n",
       "      <td>c</td>\n",
       "      <td>a</td>\n",
       "      <td>1270.0</td>\n",
       "      <td>9.0</td>\n",
       "      <td>2008.0</td>\n",
       "      <td>0</td>\n",
       "      <td>NaN</td>\n",
       "      <td>NaN</td>\n",
       "      <td>NaN</td>\n",
       "    </tr>\n",
       "    <tr>\n",
       "      <th>1</th>\n",
       "      <td>2</td>\n",
       "      <td>a</td>\n",
       "      <td>a</td>\n",
       "      <td>570.0</td>\n",
       "      <td>11.0</td>\n",
       "      <td>2007.0</td>\n",
       "      <td>1</td>\n",
       "      <td>13.0</td>\n",
       "      <td>2010.0</td>\n",
       "      <td>Jan,Apr,Jul,Oct</td>\n",
       "    </tr>\n",
       "    <tr>\n",
       "      <th>2</th>\n",
       "      <td>3</td>\n",
       "      <td>a</td>\n",
       "      <td>a</td>\n",
       "      <td>14130.0</td>\n",
       "      <td>12.0</td>\n",
       "      <td>2006.0</td>\n",
       "      <td>1</td>\n",
       "      <td>14.0</td>\n",
       "      <td>2011.0</td>\n",
       "      <td>Jan,Apr,Jul,Oct</td>\n",
       "    </tr>\n",
       "    <tr>\n",
       "      <th>3</th>\n",
       "      <td>4</td>\n",
       "      <td>c</td>\n",
       "      <td>c</td>\n",
       "      <td>620.0</td>\n",
       "      <td>9.0</td>\n",
       "      <td>2009.0</td>\n",
       "      <td>0</td>\n",
       "      <td>NaN</td>\n",
       "      <td>NaN</td>\n",
       "      <td>NaN</td>\n",
       "    </tr>\n",
       "    <tr>\n",
       "      <th>4</th>\n",
       "      <td>5</td>\n",
       "      <td>a</td>\n",
       "      <td>a</td>\n",
       "      <td>29910.0</td>\n",
       "      <td>4.0</td>\n",
       "      <td>2015.0</td>\n",
       "      <td>0</td>\n",
       "      <td>NaN</td>\n",
       "      <td>NaN</td>\n",
       "      <td>NaN</td>\n",
       "    </tr>\n",
       "    <tr>\n",
       "      <th>...</th>\n",
       "      <td>...</td>\n",
       "      <td>...</td>\n",
       "      <td>...</td>\n",
       "      <td>...</td>\n",
       "      <td>...</td>\n",
       "      <td>...</td>\n",
       "      <td>...</td>\n",
       "      <td>...</td>\n",
       "      <td>...</td>\n",
       "      <td>...</td>\n",
       "    </tr>\n",
       "    <tr>\n",
       "      <th>1110</th>\n",
       "      <td>1111</td>\n",
       "      <td>a</td>\n",
       "      <td>a</td>\n",
       "      <td>1900.0</td>\n",
       "      <td>6.0</td>\n",
       "      <td>2014.0</td>\n",
       "      <td>1</td>\n",
       "      <td>31.0</td>\n",
       "      <td>2013.0</td>\n",
       "      <td>Jan,Apr,Jul,Oct</td>\n",
       "    </tr>\n",
       "    <tr>\n",
       "      <th>1111</th>\n",
       "      <td>1112</td>\n",
       "      <td>c</td>\n",
       "      <td>c</td>\n",
       "      <td>1880.0</td>\n",
       "      <td>4.0</td>\n",
       "      <td>2006.0</td>\n",
       "      <td>0</td>\n",
       "      <td>NaN</td>\n",
       "      <td>NaN</td>\n",
       "      <td>NaN</td>\n",
       "    </tr>\n",
       "    <tr>\n",
       "      <th>1112</th>\n",
       "      <td>1113</td>\n",
       "      <td>a</td>\n",
       "      <td>c</td>\n",
       "      <td>9260.0</td>\n",
       "      <td>NaN</td>\n",
       "      <td>NaN</td>\n",
       "      <td>0</td>\n",
       "      <td>NaN</td>\n",
       "      <td>NaN</td>\n",
       "      <td>NaN</td>\n",
       "    </tr>\n",
       "    <tr>\n",
       "      <th>1113</th>\n",
       "      <td>1114</td>\n",
       "      <td>a</td>\n",
       "      <td>c</td>\n",
       "      <td>870.0</td>\n",
       "      <td>NaN</td>\n",
       "      <td>NaN</td>\n",
       "      <td>0</td>\n",
       "      <td>NaN</td>\n",
       "      <td>NaN</td>\n",
       "      <td>NaN</td>\n",
       "    </tr>\n",
       "    <tr>\n",
       "      <th>1114</th>\n",
       "      <td>1115</td>\n",
       "      <td>d</td>\n",
       "      <td>c</td>\n",
       "      <td>5350.0</td>\n",
       "      <td>NaN</td>\n",
       "      <td>NaN</td>\n",
       "      <td>1</td>\n",
       "      <td>22.0</td>\n",
       "      <td>2012.0</td>\n",
       "      <td>Mar,Jun,Sept,Dec</td>\n",
       "    </tr>\n",
       "  </tbody>\n",
       "</table>\n",
       "<p>1115 rows × 10 columns</p>\n",
       "</div>"
      ],
      "text/plain": [
       "      Store StoreType Assortment  CompetitionDistance  \\\n",
       "0         1         c          a               1270.0   \n",
       "1         2         a          a                570.0   \n",
       "2         3         a          a              14130.0   \n",
       "3         4         c          c                620.0   \n",
       "4         5         a          a              29910.0   \n",
       "...     ...       ...        ...                  ...   \n",
       "1110   1111         a          a               1900.0   \n",
       "1111   1112         c          c               1880.0   \n",
       "1112   1113         a          c               9260.0   \n",
       "1113   1114         a          c                870.0   \n",
       "1114   1115         d          c               5350.0   \n",
       "\n",
       "      CompetitionOpenSinceMonth  CompetitionOpenSinceYear  Promo2  \\\n",
       "0                           9.0                    2008.0       0   \n",
       "1                          11.0                    2007.0       1   \n",
       "2                          12.0                    2006.0       1   \n",
       "3                           9.0                    2009.0       0   \n",
       "4                           4.0                    2015.0       0   \n",
       "...                         ...                       ...     ...   \n",
       "1110                        6.0                    2014.0       1   \n",
       "1111                        4.0                    2006.0       0   \n",
       "1112                        NaN                       NaN       0   \n",
       "1113                        NaN                       NaN       0   \n",
       "1114                        NaN                       NaN       1   \n",
       "\n",
       "      Promo2SinceWeek  Promo2SinceYear     PromoInterval  \n",
       "0                 NaN              NaN               NaN  \n",
       "1                13.0           2010.0   Jan,Apr,Jul,Oct  \n",
       "2                14.0           2011.0   Jan,Apr,Jul,Oct  \n",
       "3                 NaN              NaN               NaN  \n",
       "4                 NaN              NaN               NaN  \n",
       "...               ...              ...               ...  \n",
       "1110             31.0           2013.0   Jan,Apr,Jul,Oct  \n",
       "1111              NaN              NaN               NaN  \n",
       "1112              NaN              NaN               NaN  \n",
       "1113              NaN              NaN               NaN  \n",
       "1114             22.0           2012.0  Mar,Jun,Sept,Dec  \n",
       "\n",
       "[1115 rows x 10 columns]"
      ]
     },
     "execution_count": 478,
     "metadata": {},
     "output_type": "execute_result"
    }
   ],
   "source": [
    "data_store = pd.read_csv(\"data/store.csv\")\n",
    "data_store"
   ]
  },
  {
   "cell_type": "code",
   "execution_count": 479,
   "id": "bf22c9ef-9627-4650-8270-932a7bbba584",
   "metadata": {},
   "outputs": [
    {
     "data": {
      "text/plain": [
       "(1115, 10)"
      ]
     },
     "execution_count": 479,
     "metadata": {},
     "output_type": "execute_result"
    }
   ],
   "source": [
    "data_store.shape"
   ]
  },
  {
   "cell_type": "code",
   "execution_count": 480,
   "id": "3da95a84-313f-487b-bcf2-7b3544cf6923",
   "metadata": {},
   "outputs": [
    {
     "data": {
      "text/plain": [
       "(512956, 8)"
      ]
     },
     "execution_count": 480,
     "metadata": {},
     "output_type": "execute_result"
    }
   ],
   "source": [
    "dt.shape"
   ]
  },
  {
   "cell_type": "code",
   "execution_count": 481,
   "id": "eaeb06c1-a622-4b26-bce7-3428d5ca188e",
   "metadata": {},
   "outputs": [],
   "source": [
    "dt_full = dt.merge(data_store, left_on='Store', right_on='Store', how=\"left\")"
   ]
  },
  {
   "cell_type": "code",
   "execution_count": 482,
   "id": "c5fb3e7c-62d9-4432-8ad6-4bba119b0c8b",
   "metadata": {},
   "outputs": [
    {
     "data": {
      "text/html": [
       "<div>\n",
       "<style scoped>\n",
       "    .dataframe tbody tr th:only-of-type {\n",
       "        vertical-align: middle;\n",
       "    }\n",
       "\n",
       "    .dataframe tbody tr th {\n",
       "        vertical-align: top;\n",
       "    }\n",
       "\n",
       "    .dataframe thead th {\n",
       "        text-align: right;\n",
       "    }\n",
       "</style>\n",
       "<table border=\"1\" class=\"dataframe\">\n",
       "  <thead>\n",
       "    <tr style=\"text-align: right;\">\n",
       "      <th></th>\n",
       "      <th>Date</th>\n",
       "      <th>Store</th>\n",
       "      <th>DayOfWeek</th>\n",
       "      <th>Sales</th>\n",
       "      <th>Open</th>\n",
       "      <th>Promo</th>\n",
       "      <th>StateHoliday</th>\n",
       "      <th>SchoolHoliday</th>\n",
       "      <th>StoreType</th>\n",
       "      <th>Assortment</th>\n",
       "      <th>CompetitionDistance</th>\n",
       "      <th>CompetitionOpenSinceMonth</th>\n",
       "      <th>CompetitionOpenSinceYear</th>\n",
       "      <th>Promo2</th>\n",
       "      <th>Promo2SinceWeek</th>\n",
       "      <th>Promo2SinceYear</th>\n",
       "      <th>PromoInterval</th>\n",
       "    </tr>\n",
       "  </thead>\n",
       "  <tbody>\n",
       "    <tr>\n",
       "      <th>0</th>\n",
       "      <td>2013-01-01</td>\n",
       "      <td>353.0</td>\n",
       "      <td>2.0</td>\n",
       "      <td>3139.0</td>\n",
       "      <td>1.0</td>\n",
       "      <td>0.0</td>\n",
       "      <td>a</td>\n",
       "      <td>1.0</td>\n",
       "      <td>b</td>\n",
       "      <td>b</td>\n",
       "      <td>900.0</td>\n",
       "      <td>NaN</td>\n",
       "      <td>NaN</td>\n",
       "      <td>1.0</td>\n",
       "      <td>14.0</td>\n",
       "      <td>2013.0</td>\n",
       "      <td>Feb,May,Aug,Nov</td>\n",
       "    </tr>\n",
       "    <tr>\n",
       "      <th>1</th>\n",
       "      <td>2013-01-01</td>\n",
       "      <td>335.0</td>\n",
       "      <td>2.0</td>\n",
       "      <td>2401.0</td>\n",
       "      <td>1.0</td>\n",
       "      <td>0.0</td>\n",
       "      <td>a</td>\n",
       "      <td>1.0</td>\n",
       "      <td>b</td>\n",
       "      <td>a</td>\n",
       "      <td>90.0</td>\n",
       "      <td>NaN</td>\n",
       "      <td>NaN</td>\n",
       "      <td>1.0</td>\n",
       "      <td>31.0</td>\n",
       "      <td>2013.0</td>\n",
       "      <td>Jan,Apr,Jul,Oct</td>\n",
       "    </tr>\n",
       "    <tr>\n",
       "      <th>2</th>\n",
       "      <td>2013-01-01</td>\n",
       "      <td>512.0</td>\n",
       "      <td>2.0</td>\n",
       "      <td>2646.0</td>\n",
       "      <td>1.0</td>\n",
       "      <td>0.0</td>\n",
       "      <td>a</td>\n",
       "      <td>1.0</td>\n",
       "      <td>b</td>\n",
       "      <td>b</td>\n",
       "      <td>590.0</td>\n",
       "      <td>NaN</td>\n",
       "      <td>NaN</td>\n",
       "      <td>1.0</td>\n",
       "      <td>5.0</td>\n",
       "      <td>2013.0</td>\n",
       "      <td>Mar,Jun,Sept,Dec</td>\n",
       "    </tr>\n",
       "    <tr>\n",
       "      <th>3</th>\n",
       "      <td>2013-01-01</td>\n",
       "      <td>494.0</td>\n",
       "      <td>2.0</td>\n",
       "      <td>3113.0</td>\n",
       "      <td>1.0</td>\n",
       "      <td>0.0</td>\n",
       "      <td>a</td>\n",
       "      <td>1.0</td>\n",
       "      <td>b</td>\n",
       "      <td>a</td>\n",
       "      <td>1260.0</td>\n",
       "      <td>6.0</td>\n",
       "      <td>2011.0</td>\n",
       "      <td>0.0</td>\n",
       "      <td>NaN</td>\n",
       "      <td>NaN</td>\n",
       "      <td>NaN</td>\n",
       "    </tr>\n",
       "    <tr>\n",
       "      <th>4</th>\n",
       "      <td>2013-01-01</td>\n",
       "      <td>530.0</td>\n",
       "      <td>2.0</td>\n",
       "      <td>2907.0</td>\n",
       "      <td>1.0</td>\n",
       "      <td>0.0</td>\n",
       "      <td>a</td>\n",
       "      <td>1.0</td>\n",
       "      <td>a</td>\n",
       "      <td>c</td>\n",
       "      <td>18160.0</td>\n",
       "      <td>NaN</td>\n",
       "      <td>NaN</td>\n",
       "      <td>0.0</td>\n",
       "      <td>NaN</td>\n",
       "      <td>NaN</td>\n",
       "      <td>NaN</td>\n",
       "    </tr>\n",
       "    <tr>\n",
       "      <th>...</th>\n",
       "      <td>...</td>\n",
       "      <td>...</td>\n",
       "      <td>...</td>\n",
       "      <td>...</td>\n",
       "      <td>...</td>\n",
       "      <td>...</td>\n",
       "      <td>...</td>\n",
       "      <td>...</td>\n",
       "      <td>...</td>\n",
       "      <td>...</td>\n",
       "      <td>...</td>\n",
       "      <td>...</td>\n",
       "      <td>...</td>\n",
       "      <td>...</td>\n",
       "      <td>...</td>\n",
       "      <td>...</td>\n",
       "      <td>...</td>\n",
       "    </tr>\n",
       "    <tr>\n",
       "      <th>512951</th>\n",
       "      <td>2014-07-31</td>\n",
       "      <td>752.0</td>\n",
       "      <td>4.0</td>\n",
       "      <td>7259.0</td>\n",
       "      <td>1.0</td>\n",
       "      <td>1.0</td>\n",
       "      <td>0</td>\n",
       "      <td>1.0</td>\n",
       "      <td>a</td>\n",
       "      <td>a</td>\n",
       "      <td>970.0</td>\n",
       "      <td>3.0</td>\n",
       "      <td>2013.0</td>\n",
       "      <td>1.0</td>\n",
       "      <td>31.0</td>\n",
       "      <td>2013.0</td>\n",
       "      <td>Feb,May,Aug,Nov</td>\n",
       "    </tr>\n",
       "    <tr>\n",
       "      <th>512952</th>\n",
       "      <td>2014-07-31</td>\n",
       "      <td>753.0</td>\n",
       "      <td>NaN</td>\n",
       "      <td>9938.0</td>\n",
       "      <td>1.0</td>\n",
       "      <td>1.0</td>\n",
       "      <td>0</td>\n",
       "      <td>1.0</td>\n",
       "      <td>d</td>\n",
       "      <td>c</td>\n",
       "      <td>540.0</td>\n",
       "      <td>11.0</td>\n",
       "      <td>2012.0</td>\n",
       "      <td>1.0</td>\n",
       "      <td>35.0</td>\n",
       "      <td>2010.0</td>\n",
       "      <td>Mar,Jun,Sept,Dec</td>\n",
       "    </tr>\n",
       "    <tr>\n",
       "      <th>512953</th>\n",
       "      <td>2014-07-31</td>\n",
       "      <td>754.0</td>\n",
       "      <td>4.0</td>\n",
       "      <td>10564.0</td>\n",
       "      <td>1.0</td>\n",
       "      <td>1.0</td>\n",
       "      <td>0</td>\n",
       "      <td>NaN</td>\n",
       "      <td>c</td>\n",
       "      <td>c</td>\n",
       "      <td>380.0</td>\n",
       "      <td>5.0</td>\n",
       "      <td>2008.0</td>\n",
       "      <td>1.0</td>\n",
       "      <td>10.0</td>\n",
       "      <td>2014.0</td>\n",
       "      <td>Mar,Jun,Sept,Dec</td>\n",
       "    </tr>\n",
       "    <tr>\n",
       "      <th>512954</th>\n",
       "      <td>2014-07-31</td>\n",
       "      <td>755.0</td>\n",
       "      <td>4.0</td>\n",
       "      <td>12302.0</td>\n",
       "      <td>1.0</td>\n",
       "      <td>1.0</td>\n",
       "      <td>0</td>\n",
       "      <td>1.0</td>\n",
       "      <td>d</td>\n",
       "      <td>c</td>\n",
       "      <td>13130.0</td>\n",
       "      <td>12.0</td>\n",
       "      <td>2003.0</td>\n",
       "      <td>0.0</td>\n",
       "      <td>NaN</td>\n",
       "      <td>NaN</td>\n",
       "      <td>NaN</td>\n",
       "    </tr>\n",
       "    <tr>\n",
       "      <th>512955</th>\n",
       "      <td>2014-07-31</td>\n",
       "      <td>751.0</td>\n",
       "      <td>4.0</td>\n",
       "      <td>3913.0</td>\n",
       "      <td>1.0</td>\n",
       "      <td>1.0</td>\n",
       "      <td>0</td>\n",
       "      <td>1.0</td>\n",
       "      <td>a</td>\n",
       "      <td>a</td>\n",
       "      <td>650.0</td>\n",
       "      <td>10.0</td>\n",
       "      <td>2006.0</td>\n",
       "      <td>0.0</td>\n",
       "      <td>NaN</td>\n",
       "      <td>NaN</td>\n",
       "      <td>NaN</td>\n",
       "    </tr>\n",
       "  </tbody>\n",
       "</table>\n",
       "<p>512956 rows × 17 columns</p>\n",
       "</div>"
      ],
      "text/plain": [
       "              Date  Store  DayOfWeek    Sales  Open  Promo StateHoliday  \\\n",
       "0       2013-01-01  353.0        2.0   3139.0   1.0    0.0            a   \n",
       "1       2013-01-01  335.0        2.0   2401.0   1.0    0.0            a   \n",
       "2       2013-01-01  512.0        2.0   2646.0   1.0    0.0            a   \n",
       "3       2013-01-01  494.0        2.0   3113.0   1.0    0.0            a   \n",
       "4       2013-01-01  530.0        2.0   2907.0   1.0    0.0            a   \n",
       "...            ...    ...        ...      ...   ...    ...          ...   \n",
       "512951  2014-07-31  752.0        4.0   7259.0   1.0    1.0            0   \n",
       "512952  2014-07-31  753.0        NaN   9938.0   1.0    1.0            0   \n",
       "512953  2014-07-31  754.0        4.0  10564.0   1.0    1.0            0   \n",
       "512954  2014-07-31  755.0        4.0  12302.0   1.0    1.0            0   \n",
       "512955  2014-07-31  751.0        4.0   3913.0   1.0    1.0            0   \n",
       "\n",
       "        SchoolHoliday StoreType Assortment  CompetitionDistance  \\\n",
       "0                 1.0         b          b                900.0   \n",
       "1                 1.0         b          a                 90.0   \n",
       "2                 1.0         b          b                590.0   \n",
       "3                 1.0         b          a               1260.0   \n",
       "4                 1.0         a          c              18160.0   \n",
       "...               ...       ...        ...                  ...   \n",
       "512951            1.0         a          a                970.0   \n",
       "512952            1.0         d          c                540.0   \n",
       "512953            NaN         c          c                380.0   \n",
       "512954            1.0         d          c              13130.0   \n",
       "512955            1.0         a          a                650.0   \n",
       "\n",
       "        CompetitionOpenSinceMonth  CompetitionOpenSinceYear  Promo2  \\\n",
       "0                             NaN                       NaN     1.0   \n",
       "1                             NaN                       NaN     1.0   \n",
       "2                             NaN                       NaN     1.0   \n",
       "3                             6.0                    2011.0     0.0   \n",
       "4                             NaN                       NaN     0.0   \n",
       "...                           ...                       ...     ...   \n",
       "512951                        3.0                    2013.0     1.0   \n",
       "512952                       11.0                    2012.0     1.0   \n",
       "512953                        5.0                    2008.0     1.0   \n",
       "512954                       12.0                    2003.0     0.0   \n",
       "512955                       10.0                    2006.0     0.0   \n",
       "\n",
       "        Promo2SinceWeek  Promo2SinceYear     PromoInterval  \n",
       "0                  14.0           2013.0   Feb,May,Aug,Nov  \n",
       "1                  31.0           2013.0   Jan,Apr,Jul,Oct  \n",
       "2                   5.0           2013.0  Mar,Jun,Sept,Dec  \n",
       "3                   NaN              NaN               NaN  \n",
       "4                   NaN              NaN               NaN  \n",
       "...                 ...              ...               ...  \n",
       "512951             31.0           2013.0   Feb,May,Aug,Nov  \n",
       "512952             35.0           2010.0  Mar,Jun,Sept,Dec  \n",
       "512953             10.0           2014.0  Mar,Jun,Sept,Dec  \n",
       "512954              NaN              NaN               NaN  \n",
       "512955              NaN              NaN               NaN  \n",
       "\n",
       "[512956 rows x 17 columns]"
      ]
     },
     "execution_count": 482,
     "metadata": {},
     "output_type": "execute_result"
    }
   ],
   "source": [
    "dt_full"
   ]
  },
  {
   "cell_type": "markdown",
   "id": "252c6bce-ebfd-41be-bf7f-46a4d536bafd",
   "metadata": {},
   "source": [
    "## Exploratory Analysis"
   ]
  },
  {
   "cell_type": "code",
   "execution_count": null,
   "id": "2ce0ac05-3620-4a90-b46d-119e7839095a",
   "metadata": {},
   "outputs": [],
   "source": []
  },
  {
   "cell_type": "code",
   "execution_count": null,
   "id": "45b08b3a-2ed2-4de0-a41e-f8a630c85443",
   "metadata": {},
   "outputs": [],
   "source": []
  },
  {
   "cell_type": "code",
   "execution_count": null,
   "id": "84ebf982-a007-4a04-9b39-2514c61ef8e8",
   "metadata": {},
   "outputs": [],
   "source": []
  },
  {
   "cell_type": "code",
   "execution_count": null,
   "id": "a8094033-9900-4f83-8912-8174ad51b69f",
   "metadata": {},
   "outputs": [],
   "source": [
    "\n"
   ]
  },
  {
   "cell_type": "code",
   "execution_count": 483,
   "id": "ff05611c-99bf-477a-acd9-9813465968f5",
   "metadata": {},
   "outputs": [
    {
     "data": {
      "text/plain": [
       "Index(['Date', 'Store', 'DayOfWeek', 'Sales', 'Open', 'Promo', 'StateHoliday',\n",
       "       'SchoolHoliday', 'StoreType', 'Assortment', 'CompetitionDistance',\n",
       "       'CompetitionOpenSinceMonth', 'CompetitionOpenSinceYear', 'Promo2',\n",
       "       'Promo2SinceWeek', 'Promo2SinceYear', 'PromoInterval'],\n",
       "      dtype='object')"
      ]
     },
     "execution_count": 483,
     "metadata": {},
     "output_type": "execute_result"
    }
   ],
   "source": [
    "dt_full.columns"
   ]
  },
  {
   "cell_type": "code",
   "execution_count": 484,
   "id": "e0fa5b21-e3ac-4685-8929-adfb92d5b135",
   "metadata": {},
   "outputs": [
    {
     "data": {
      "text/plain": [
       "0.0    281859\n",
       "1.0    215658\n",
       "Name: Promo, dtype: int64"
      ]
     },
     "execution_count": 484,
     "metadata": {},
     "output_type": "execute_result"
    }
   ],
   "source": [
    "dt_full.Promo.value_counts()"
   ]
  },
  {
   "cell_type": "code",
   "execution_count": 485,
   "id": "75944923-8111-4aae-ad15-db74c585bfc1",
   "metadata": {},
   "outputs": [
    {
     "data": {
      "text/plain": [
       "6.0    85139\n",
       "2.0    84995\n",
       "3.0    82859\n",
       "5.0    82472\n",
       "1.0    80809\n",
       "4.0    79312\n",
       "7.0     2071\n",
       "Name: DayOfWeek, dtype: int64"
      ]
     },
     "execution_count": 485,
     "metadata": {},
     "output_type": "execute_result"
    }
   ],
   "source": [
    "dt_full.DayOfWeek.value_counts()"
   ]
  },
  {
   "cell_type": "code",
   "execution_count": 486,
   "id": "93044ee5-f7cc-4871-ad3d-71b0dbb36de3",
   "metadata": {},
   "outputs": [
    {
     "data": {
      "text/plain": [
       "1.0    497501\n",
       "Name: Open, dtype: int64"
      ]
     },
     "execution_count": 486,
     "metadata": {},
     "output_type": "execute_result"
    }
   ],
   "source": [
    "dt_full.Open.value_counts()"
   ]
  },
  {
   "cell_type": "code",
   "execution_count": 487,
   "id": "fd7a9440-90d8-42a2-a2fb-6da2c695bce9",
   "metadata": {},
   "outputs": [
    {
     "data": {
      "text/plain": [
       "0      444136\n",
       "0.0     52717\n",
       "a         415\n",
       "b          93\n",
       "c          35\n",
       "Name: StateHoliday, dtype: int64"
      ]
     },
     "execution_count": 487,
     "metadata": {},
     "output_type": "execute_result"
    }
   ],
   "source": [
    "dt_full.StateHoliday.value_counts()"
   ]
  },
  {
   "cell_type": "code",
   "execution_count": 488,
   "id": "654b8fa8-125e-4db5-a519-d833c5476da8",
   "metadata": {},
   "outputs": [
    {
     "data": {
      "text/plain": [
       "0.0    404398\n",
       "1.0     93011\n",
       "Name: SchoolHoliday, dtype: int64"
      ]
     },
     "execution_count": 488,
     "metadata": {},
     "output_type": "execute_result"
    }
   ],
   "source": [
    "dt_full.SchoolHoliday.value_counts()"
   ]
  },
  {
   "cell_type": "code",
   "execution_count": 489,
   "id": "a22c9c7e-7dd2-4bcd-9805-c3018120d716",
   "metadata": {},
   "outputs": [
    {
     "data": {
      "text/plain": [
       "733.0     551\n",
       "335.0     547\n",
       "85.0      546\n",
       "769.0     545\n",
       "494.0     544\n",
       "         ... \n",
       "348.0     400\n",
       "972.0     383\n",
       "1081.0    373\n",
       "349.0     372\n",
       "103.0     304\n",
       "Name: Store, Length: 1115, dtype: int64"
      ]
     },
     "execution_count": 489,
     "metadata": {},
     "output_type": "execute_result"
    }
   ],
   "source": [
    "dt_full.Store.value_counts()"
   ]
  },
  {
   "cell_type": "code",
   "execution_count": 490,
   "id": "247ac44b-88ce-4a5a-b8ed-3350daaffbae",
   "metadata": {},
   "outputs": [
    {
     "data": {
      "text/plain": [
       "a    268425\n",
       "d    154104\n",
       "c     65902\n",
       "b      8945\n",
       "Name: StoreType, dtype: int64"
      ]
     },
     "execution_count": 490,
     "metadata": {},
     "output_type": "execute_result"
    }
   ],
   "source": [
    "dt_full.StoreType.value_counts()"
   ]
  },
  {
   "cell_type": "code",
   "execution_count": null,
   "id": "fe6be0b8-0fa4-46f9-84bc-2026da4b0f69",
   "metadata": {},
   "outputs": [],
   "source": []
  },
  {
   "cell_type": "code",
   "execution_count": null,
   "id": "d301b55b-f896-4091-ad3f-743112954c6e",
   "metadata": {},
   "outputs": [],
   "source": []
  },
  {
   "cell_type": "markdown",
   "id": "018fad50-b9c9-4c91-8fd9-e75b197bef2a",
   "metadata": {},
   "source": [
    "## Feature Engineering"
   ]
  },
  {
   "cell_type": "code",
   "execution_count": 491,
   "id": "8b1e77dc-cf5b-4c62-8025-a1bb703d6acd",
   "metadata": {},
   "outputs": [],
   "source": [
    "#make one-hot-encoding for the StateHoliday variable\n",
    "#a = public holiday, b = Easter holiday, c = Christmas, 0 = None\n",
    "dt_eng = dt_full\n",
    "dt_eng.loc[: , \"PublicHoliday\"] = dt_full.loc[:, \"StateHoliday\"]==\"a\" \n",
    "dt_eng.loc[: , \"Easter\"] = dt_full.loc[:, \"StateHoliday\"]==\"b\" \n",
    "dt_eng.loc[: , \"Christmas\"] = dt_full.loc[:, \"StateHoliday\"]==\"c\" \n",
    "#dt_eng = dt.drop(\"StateHoliday\", axis=1)\n"
   ]
  },
  {
   "cell_type": "code",
   "execution_count": 492,
   "id": "99805bde-86b8-4573-82fa-f93fe585aec7",
   "metadata": {},
   "outputs": [
    {
     "data": {
      "text/plain": [
       "15560"
      ]
     },
     "execution_count": 492,
     "metadata": {},
     "output_type": "execute_result"
    }
   ],
   "source": [
    "dt_full.StateHoliday.isnull().sum()"
   ]
  },
  {
   "cell_type": "code",
   "execution_count": 493,
   "id": "5caf9f4c-ac0c-4a7f-9082-e16f5b414f77",
   "metadata": {},
   "outputs": [
    {
     "data": {
      "text/plain": [
       "0"
      ]
     },
     "execution_count": 493,
     "metadata": {},
     "output_type": "execute_result"
    }
   ],
   "source": [
    "dt_eng.PublicHoliday.isnull().sum()"
   ]
  },
  {
   "cell_type": "code",
   "execution_count": 494,
   "id": "d295c737-2944-4421-9ac5-8b3b532d60e8",
   "metadata": {},
   "outputs": [],
   "source": [
    "#StoreType\n",
    "#try either target encoding or one-hot encoding\n",
    "dummies = pd.get_dummies(dt_full.loc[:, \"StoreType\"], prefix=\"storetype\", prefix_sep='_')\n",
    "dt_eng = pd.concat([dt_eng, dummies], axis=1)\n"
   ]
  },
  {
   "cell_type": "code",
   "execution_count": 495,
   "id": "62acf3d2-6370-4abb-a207-ac1ab1797f86",
   "metadata": {},
   "outputs": [],
   "source": [
    "#Assortment\n",
    "#could be ordinal encoding\n",
    "#dt_full.loc[dt_full['Assortment']==\"a\", \"Sales\"]\n",
    "dt_eng.groupby(\"Assortment\").mean()['Sales']\n",
    "dummies = pd.get_dummies(dt_eng.loc[:, \"Assortment\"], prefix=\"assort\", prefix_sep='_')\n",
    "dt_eng = pd.concat([dt_eng, dummies], axis=1)\n"
   ]
  },
  {
   "cell_type": "code",
   "execution_count": 496,
   "id": "d91afe58-cc7f-4caf-afc6-3d3bce958e30",
   "metadata": {},
   "outputs": [
    {
     "data": {
      "text/plain": [
       "Index(['Date', 'Store', 'DayOfWeek', 'Sales', 'Open', 'Promo', 'StateHoliday',\n",
       "       'SchoolHoliday', 'StoreType', 'Assortment', 'CompetitionDistance',\n",
       "       'CompetitionOpenSinceMonth', 'CompetitionOpenSinceYear', 'Promo2',\n",
       "       'Promo2SinceWeek', 'Promo2SinceYear', 'PromoInterval', 'PublicHoliday',\n",
       "       'Easter', 'Christmas', 'storetype_a', 'storetype_b', 'storetype_c',\n",
       "       'storetype_d', 'assort_a', 'assort_b', 'assort_c'],\n",
       "      dtype='object')"
      ]
     },
     "execution_count": 496,
     "metadata": {},
     "output_type": "execute_result"
    }
   ],
   "source": [
    "dt_eng.columns"
   ]
  },
  {
   "cell_type": "code",
   "execution_count": 497,
   "id": "949b3473-66e0-48c8-9ef5-01fdca87f148",
   "metadata": {},
   "outputs": [
    {
     "data": {
      "text/html": [
       "<div>\n",
       "<style scoped>\n",
       "    .dataframe tbody tr th:only-of-type {\n",
       "        vertical-align: middle;\n",
       "    }\n",
       "\n",
       "    .dataframe tbody tr th {\n",
       "        vertical-align: top;\n",
       "    }\n",
       "\n",
       "    .dataframe thead th {\n",
       "        text-align: right;\n",
       "    }\n",
       "</style>\n",
       "<table border=\"1\" class=\"dataframe\">\n",
       "  <thead>\n",
       "    <tr style=\"text-align: right;\">\n",
       "      <th></th>\n",
       "      <th>Store</th>\n",
       "      <th>CompetitionDistance</th>\n",
       "      <th>CompetitionOpenSinceMonth</th>\n",
       "      <th>CompetitionOpenSinceYear</th>\n",
       "    </tr>\n",
       "  </thead>\n",
       "  <tbody>\n",
       "    <tr>\n",
       "      <th>0</th>\n",
       "      <td>353.0</td>\n",
       "      <td>900.0</td>\n",
       "      <td>NaN</td>\n",
       "      <td>NaN</td>\n",
       "    </tr>\n",
       "    <tr>\n",
       "      <th>1</th>\n",
       "      <td>335.0</td>\n",
       "      <td>90.0</td>\n",
       "      <td>NaN</td>\n",
       "      <td>NaN</td>\n",
       "    </tr>\n",
       "    <tr>\n",
       "      <th>2</th>\n",
       "      <td>512.0</td>\n",
       "      <td>590.0</td>\n",
       "      <td>NaN</td>\n",
       "      <td>NaN</td>\n",
       "    </tr>\n",
       "    <tr>\n",
       "      <th>3</th>\n",
       "      <td>494.0</td>\n",
       "      <td>1260.0</td>\n",
       "      <td>6.0</td>\n",
       "      <td>2011.0</td>\n",
       "    </tr>\n",
       "    <tr>\n",
       "      <th>4</th>\n",
       "      <td>530.0</td>\n",
       "      <td>18160.0</td>\n",
       "      <td>NaN</td>\n",
       "      <td>NaN</td>\n",
       "    </tr>\n",
       "    <tr>\n",
       "      <th>...</th>\n",
       "      <td>...</td>\n",
       "      <td>...</td>\n",
       "      <td>...</td>\n",
       "      <td>...</td>\n",
       "    </tr>\n",
       "    <tr>\n",
       "      <th>512951</th>\n",
       "      <td>752.0</td>\n",
       "      <td>970.0</td>\n",
       "      <td>3.0</td>\n",
       "      <td>2013.0</td>\n",
       "    </tr>\n",
       "    <tr>\n",
       "      <th>512952</th>\n",
       "      <td>753.0</td>\n",
       "      <td>540.0</td>\n",
       "      <td>11.0</td>\n",
       "      <td>2012.0</td>\n",
       "    </tr>\n",
       "    <tr>\n",
       "      <th>512953</th>\n",
       "      <td>754.0</td>\n",
       "      <td>380.0</td>\n",
       "      <td>5.0</td>\n",
       "      <td>2008.0</td>\n",
       "    </tr>\n",
       "    <tr>\n",
       "      <th>512954</th>\n",
       "      <td>755.0</td>\n",
       "      <td>13130.0</td>\n",
       "      <td>12.0</td>\n",
       "      <td>2003.0</td>\n",
       "    </tr>\n",
       "    <tr>\n",
       "      <th>512955</th>\n",
       "      <td>751.0</td>\n",
       "      <td>650.0</td>\n",
       "      <td>10.0</td>\n",
       "      <td>2006.0</td>\n",
       "    </tr>\n",
       "  </tbody>\n",
       "</table>\n",
       "<p>512956 rows × 4 columns</p>\n",
       "</div>"
      ],
      "text/plain": [
       "        Store  CompetitionDistance  CompetitionOpenSinceMonth  \\\n",
       "0       353.0                900.0                        NaN   \n",
       "1       335.0                 90.0                        NaN   \n",
       "2       512.0                590.0                        NaN   \n",
       "3       494.0               1260.0                        6.0   \n",
       "4       530.0              18160.0                        NaN   \n",
       "...       ...                  ...                        ...   \n",
       "512951  752.0                970.0                        3.0   \n",
       "512952  753.0                540.0                       11.0   \n",
       "512953  754.0                380.0                        5.0   \n",
       "512954  755.0              13130.0                       12.0   \n",
       "512955  751.0                650.0                       10.0   \n",
       "\n",
       "        CompetitionOpenSinceYear  \n",
       "0                            NaN  \n",
       "1                            NaN  \n",
       "2                            NaN  \n",
       "3                         2011.0  \n",
       "4                            NaN  \n",
       "...                          ...  \n",
       "512951                    2013.0  \n",
       "512952                    2012.0  \n",
       "512953                    2008.0  \n",
       "512954                    2003.0  \n",
       "512955                    2006.0  \n",
       "\n",
       "[512956 rows x 4 columns]"
      ]
     },
     "execution_count": 497,
     "metadata": {},
     "output_type": "execute_result"
    }
   ],
   "source": [
    "dt_eng.loc[:, [\"Store\", \"CompetitionDistance\", \"CompetitionOpenSinceMonth\", \"CompetitionOpenSinceYear\"]]"
   ]
  },
  {
   "cell_type": "code",
   "execution_count": 498,
   "id": "4dfa31d3-f4ea-4135-8a7c-fbda0e6492ed",
   "metadata": {},
   "outputs": [
    {
     "data": {
      "text/html": [
       "<div>\n",
       "<style scoped>\n",
       "    .dataframe tbody tr th:only-of-type {\n",
       "        vertical-align: middle;\n",
       "    }\n",
       "\n",
       "    .dataframe tbody tr th {\n",
       "        vertical-align: top;\n",
       "    }\n",
       "\n",
       "    .dataframe thead th {\n",
       "        text-align: right;\n",
       "    }\n",
       "</style>\n",
       "<table border=\"1\" class=\"dataframe\">\n",
       "  <thead>\n",
       "    <tr style=\"text-align: right;\">\n",
       "      <th></th>\n",
       "      <th>Store</th>\n",
       "      <th>Sales</th>\n",
       "      <th>Date</th>\n",
       "      <th>CompetitionDistance</th>\n",
       "      <th>CompetitionOpenSinceMonth</th>\n",
       "      <th>CompetitionOpenSinceYear</th>\n",
       "    </tr>\n",
       "  </thead>\n",
       "  <tbody>\n",
       "    <tr>\n",
       "      <th>5</th>\n",
       "      <td>423.0</td>\n",
       "      <td>9643.0</td>\n",
       "      <td>2013-01-01</td>\n",
       "      <td>1270.0</td>\n",
       "      <td>5.0</td>\n",
       "      <td>2014.0</td>\n",
       "    </tr>\n",
       "    <tr>\n",
       "      <th>239</th>\n",
       "      <td>423.0</td>\n",
       "      <td>9570.0</td>\n",
       "      <td>2013-01-02</td>\n",
       "      <td>1270.0</td>\n",
       "      <td>5.0</td>\n",
       "      <td>2014.0</td>\n",
       "    </tr>\n",
       "    <tr>\n",
       "      <th>1325</th>\n",
       "      <td>423.0</td>\n",
       "      <td>8254.0</td>\n",
       "      <td>2013-01-03</td>\n",
       "      <td>1270.0</td>\n",
       "      <td>5.0</td>\n",
       "      <td>2014.0</td>\n",
       "    </tr>\n",
       "    <tr>\n",
       "      <th>2402</th>\n",
       "      <td>423.0</td>\n",
       "      <td>9285.0</td>\n",
       "      <td>2013-01-04</td>\n",
       "      <td>1270.0</td>\n",
       "      <td>5.0</td>\n",
       "      <td>2014.0</td>\n",
       "    </tr>\n",
       "    <tr>\n",
       "      <th>3479</th>\n",
       "      <td>423.0</td>\n",
       "      <td>7095.0</td>\n",
       "      <td>2013-01-05</td>\n",
       "      <td>1270.0</td>\n",
       "      <td>5.0</td>\n",
       "      <td>2014.0</td>\n",
       "    </tr>\n",
       "    <tr>\n",
       "      <th>4334</th>\n",
       "      <td>423.0</td>\n",
       "      <td>10770.0</td>\n",
       "      <td>2013-01-06</td>\n",
       "      <td>1270.0</td>\n",
       "      <td>5.0</td>\n",
       "      <td>2014.0</td>\n",
       "    </tr>\n",
       "    <tr>\n",
       "      <th>4565</th>\n",
       "      <td>423.0</td>\n",
       "      <td>10379.0</td>\n",
       "      <td>2013-01-07</td>\n",
       "      <td>1270.0</td>\n",
       "      <td>5.0</td>\n",
       "      <td>2014.0</td>\n",
       "    </tr>\n",
       "    <tr>\n",
       "      <th>5642</th>\n",
       "      <td>423.0</td>\n",
       "      <td>9826.0</td>\n",
       "      <td>2013-01-08</td>\n",
       "      <td>1270.0</td>\n",
       "      <td>5.0</td>\n",
       "      <td>2014.0</td>\n",
       "    </tr>\n",
       "    <tr>\n",
       "      <th>6712</th>\n",
       "      <td>423.0</td>\n",
       "      <td>9259.0</td>\n",
       "      <td>2013-01-09</td>\n",
       "      <td>1270.0</td>\n",
       "      <td>5.0</td>\n",
       "      <td>2014.0</td>\n",
       "    </tr>\n",
       "    <tr>\n",
       "      <th>7779</th>\n",
       "      <td>423.0</td>\n",
       "      <td>8831.0</td>\n",
       "      <td>2013-01-10</td>\n",
       "      <td>1270.0</td>\n",
       "      <td>5.0</td>\n",
       "      <td>2014.0</td>\n",
       "    </tr>\n",
       "  </tbody>\n",
       "</table>\n",
       "</div>"
      ],
      "text/plain": [
       "      Store    Sales        Date  CompetitionDistance  \\\n",
       "5     423.0   9643.0  2013-01-01               1270.0   \n",
       "239   423.0   9570.0  2013-01-02               1270.0   \n",
       "1325  423.0   8254.0  2013-01-03               1270.0   \n",
       "2402  423.0   9285.0  2013-01-04               1270.0   \n",
       "3479  423.0   7095.0  2013-01-05               1270.0   \n",
       "4334  423.0  10770.0  2013-01-06               1270.0   \n",
       "4565  423.0  10379.0  2013-01-07               1270.0   \n",
       "5642  423.0   9826.0  2013-01-08               1270.0   \n",
       "6712  423.0   9259.0  2013-01-09               1270.0   \n",
       "7779  423.0   8831.0  2013-01-10               1270.0   \n",
       "\n",
       "      CompetitionOpenSinceMonth  CompetitionOpenSinceYear  \n",
       "5                           5.0                    2014.0  \n",
       "239                         5.0                    2014.0  \n",
       "1325                        5.0                    2014.0  \n",
       "2402                        5.0                    2014.0  \n",
       "3479                        5.0                    2014.0  \n",
       "4334                        5.0                    2014.0  \n",
       "4565                        5.0                    2014.0  \n",
       "5642                        5.0                    2014.0  \n",
       "6712                        5.0                    2014.0  \n",
       "7779                        5.0                    2014.0  "
      ]
     },
     "execution_count": 498,
     "metadata": {},
     "output_type": "execute_result"
    }
   ],
   "source": [
    "dt_eng.loc[dt_eng[\"Store\"]==423, [\"Store\", \"Sales\", \"Date\", \"CompetitionDistance\", \"CompetitionOpenSinceMonth\", \"CompetitionOpenSinceYear\"]].head(10)"
   ]
  },
  {
   "cell_type": "raw",
   "id": "f8dfe181-2881-4976-b649-fe10e4a857c3",
   "metadata": {},
   "source": [
    "dt_eng.isnull().sum()"
   ]
  },
  {
   "cell_type": "code",
   "execution_count": 499,
   "id": "3ec8ac3b-9242-4155-9469-3067b97b558b",
   "metadata": {
    "tags": []
   },
   "outputs": [],
   "source": [
    "#CompetitionDistance could be metric or maybe squared?\n"
   ]
  },
  {
   "cell_type": "code",
   "execution_count": 500,
   "id": "3021cc08-5ac0-4e65-9a00-31dadedc2822",
   "metadata": {},
   "outputs": [
    {
     "data": {
      "text/html": [
       "<div>\n",
       "<style scoped>\n",
       "    .dataframe tbody tr th:only-of-type {\n",
       "        vertical-align: middle;\n",
       "    }\n",
       "\n",
       "    .dataframe tbody tr th {\n",
       "        vertical-align: top;\n",
       "    }\n",
       "\n",
       "    .dataframe thead th {\n",
       "        text-align: right;\n",
       "    }\n",
       "</style>\n",
       "<table border=\"1\" class=\"dataframe\">\n",
       "  <thead>\n",
       "    <tr style=\"text-align: right;\">\n",
       "      <th></th>\n",
       "      <th>Store</th>\n",
       "      <th>Promo2</th>\n",
       "      <th>Promo2SinceWeek</th>\n",
       "      <th>Promo2SinceYear</th>\n",
       "    </tr>\n",
       "  </thead>\n",
       "  <tbody>\n",
       "    <tr>\n",
       "      <th>0</th>\n",
       "      <td>353.0</td>\n",
       "      <td>1.0</td>\n",
       "      <td>14.0</td>\n",
       "      <td>2013.0</td>\n",
       "    </tr>\n",
       "    <tr>\n",
       "      <th>1</th>\n",
       "      <td>335.0</td>\n",
       "      <td>1.0</td>\n",
       "      <td>31.0</td>\n",
       "      <td>2013.0</td>\n",
       "    </tr>\n",
       "    <tr>\n",
       "      <th>2</th>\n",
       "      <td>512.0</td>\n",
       "      <td>1.0</td>\n",
       "      <td>5.0</td>\n",
       "      <td>2013.0</td>\n",
       "    </tr>\n",
       "    <tr>\n",
       "      <th>3</th>\n",
       "      <td>494.0</td>\n",
       "      <td>0.0</td>\n",
       "      <td>NaN</td>\n",
       "      <td>NaN</td>\n",
       "    </tr>\n",
       "    <tr>\n",
       "      <th>4</th>\n",
       "      <td>530.0</td>\n",
       "      <td>0.0</td>\n",
       "      <td>NaN</td>\n",
       "      <td>NaN</td>\n",
       "    </tr>\n",
       "    <tr>\n",
       "      <th>...</th>\n",
       "      <td>...</td>\n",
       "      <td>...</td>\n",
       "      <td>...</td>\n",
       "      <td>...</td>\n",
       "    </tr>\n",
       "    <tr>\n",
       "      <th>512951</th>\n",
       "      <td>752.0</td>\n",
       "      <td>1.0</td>\n",
       "      <td>31.0</td>\n",
       "      <td>2013.0</td>\n",
       "    </tr>\n",
       "    <tr>\n",
       "      <th>512952</th>\n",
       "      <td>753.0</td>\n",
       "      <td>1.0</td>\n",
       "      <td>35.0</td>\n",
       "      <td>2010.0</td>\n",
       "    </tr>\n",
       "    <tr>\n",
       "      <th>512953</th>\n",
       "      <td>754.0</td>\n",
       "      <td>1.0</td>\n",
       "      <td>10.0</td>\n",
       "      <td>2014.0</td>\n",
       "    </tr>\n",
       "    <tr>\n",
       "      <th>512954</th>\n",
       "      <td>755.0</td>\n",
       "      <td>0.0</td>\n",
       "      <td>NaN</td>\n",
       "      <td>NaN</td>\n",
       "    </tr>\n",
       "    <tr>\n",
       "      <th>512955</th>\n",
       "      <td>751.0</td>\n",
       "      <td>0.0</td>\n",
       "      <td>NaN</td>\n",
       "      <td>NaN</td>\n",
       "    </tr>\n",
       "  </tbody>\n",
       "</table>\n",
       "<p>512956 rows × 4 columns</p>\n",
       "</div>"
      ],
      "text/plain": [
       "        Store  Promo2  Promo2SinceWeek  Promo2SinceYear\n",
       "0       353.0     1.0             14.0           2013.0\n",
       "1       335.0     1.0             31.0           2013.0\n",
       "2       512.0     1.0              5.0           2013.0\n",
       "3       494.0     0.0              NaN              NaN\n",
       "4       530.0     0.0              NaN              NaN\n",
       "...       ...     ...              ...              ...\n",
       "512951  752.0     1.0             31.0           2013.0\n",
       "512952  753.0     1.0             35.0           2010.0\n",
       "512953  754.0     1.0             10.0           2014.0\n",
       "512954  755.0     0.0              NaN              NaN\n",
       "512955  751.0     0.0              NaN              NaN\n",
       "\n",
       "[512956 rows x 4 columns]"
      ]
     },
     "execution_count": 500,
     "metadata": {},
     "output_type": "execute_result"
    }
   ],
   "source": [
    "#Promo2 how is this working?\n",
    "dt_eng.loc[:, [\"Store\", \"Promo2\", \"Promo2SinceWeek\", \"Promo2SinceYear\"]]"
   ]
  },
  {
   "cell_type": "code",
   "execution_count": 501,
   "id": "7ab73499-188a-4185-8b5e-d75ab15f107e",
   "metadata": {},
   "outputs": [
    {
     "data": {
      "text/html": [
       "<div>\n",
       "<style scoped>\n",
       "    .dataframe tbody tr th:only-of-type {\n",
       "        vertical-align: middle;\n",
       "    }\n",
       "\n",
       "    .dataframe tbody tr th {\n",
       "        vertical-align: top;\n",
       "    }\n",
       "\n",
       "    .dataframe thead th {\n",
       "        text-align: right;\n",
       "    }\n",
       "</style>\n",
       "<table border=\"1\" class=\"dataframe\">\n",
       "  <thead>\n",
       "    <tr style=\"text-align: right;\">\n",
       "      <th></th>\n",
       "      <th>Store</th>\n",
       "      <th>Sales</th>\n",
       "      <th>Date</th>\n",
       "      <th>Promo2</th>\n",
       "      <th>Promo2SinceWeek</th>\n",
       "      <th>Promo2SinceYear</th>\n",
       "    </tr>\n",
       "  </thead>\n",
       "  <tbody>\n",
       "    <tr>\n",
       "      <th>5</th>\n",
       "      <td>423.0</td>\n",
       "      <td>9643.0</td>\n",
       "      <td>2013-01-01</td>\n",
       "      <td>0.0</td>\n",
       "      <td>NaN</td>\n",
       "      <td>NaN</td>\n",
       "    </tr>\n",
       "    <tr>\n",
       "      <th>239</th>\n",
       "      <td>423.0</td>\n",
       "      <td>9570.0</td>\n",
       "      <td>2013-01-02</td>\n",
       "      <td>0.0</td>\n",
       "      <td>NaN</td>\n",
       "      <td>NaN</td>\n",
       "    </tr>\n",
       "    <tr>\n",
       "      <th>1325</th>\n",
       "      <td>423.0</td>\n",
       "      <td>8254.0</td>\n",
       "      <td>2013-01-03</td>\n",
       "      <td>0.0</td>\n",
       "      <td>NaN</td>\n",
       "      <td>NaN</td>\n",
       "    </tr>\n",
       "    <tr>\n",
       "      <th>2402</th>\n",
       "      <td>423.0</td>\n",
       "      <td>9285.0</td>\n",
       "      <td>2013-01-04</td>\n",
       "      <td>0.0</td>\n",
       "      <td>NaN</td>\n",
       "      <td>NaN</td>\n",
       "    </tr>\n",
       "    <tr>\n",
       "      <th>3479</th>\n",
       "      <td>423.0</td>\n",
       "      <td>7095.0</td>\n",
       "      <td>2013-01-05</td>\n",
       "      <td>0.0</td>\n",
       "      <td>NaN</td>\n",
       "      <td>NaN</td>\n",
       "    </tr>\n",
       "    <tr>\n",
       "      <th>4334</th>\n",
       "      <td>423.0</td>\n",
       "      <td>10770.0</td>\n",
       "      <td>2013-01-06</td>\n",
       "      <td>0.0</td>\n",
       "      <td>NaN</td>\n",
       "      <td>NaN</td>\n",
       "    </tr>\n",
       "    <tr>\n",
       "      <th>4565</th>\n",
       "      <td>423.0</td>\n",
       "      <td>10379.0</td>\n",
       "      <td>2013-01-07</td>\n",
       "      <td>0.0</td>\n",
       "      <td>NaN</td>\n",
       "      <td>NaN</td>\n",
       "    </tr>\n",
       "    <tr>\n",
       "      <th>5642</th>\n",
       "      <td>423.0</td>\n",
       "      <td>9826.0</td>\n",
       "      <td>2013-01-08</td>\n",
       "      <td>0.0</td>\n",
       "      <td>NaN</td>\n",
       "      <td>NaN</td>\n",
       "    </tr>\n",
       "    <tr>\n",
       "      <th>6712</th>\n",
       "      <td>423.0</td>\n",
       "      <td>9259.0</td>\n",
       "      <td>2013-01-09</td>\n",
       "      <td>0.0</td>\n",
       "      <td>NaN</td>\n",
       "      <td>NaN</td>\n",
       "    </tr>\n",
       "    <tr>\n",
       "      <th>7779</th>\n",
       "      <td>423.0</td>\n",
       "      <td>8831.0</td>\n",
       "      <td>2013-01-10</td>\n",
       "      <td>0.0</td>\n",
       "      <td>NaN</td>\n",
       "      <td>NaN</td>\n",
       "    </tr>\n",
       "  </tbody>\n",
       "</table>\n",
       "</div>"
      ],
      "text/plain": [
       "      Store    Sales        Date  Promo2  Promo2SinceWeek  Promo2SinceYear\n",
       "5     423.0   9643.0  2013-01-01     0.0              NaN              NaN\n",
       "239   423.0   9570.0  2013-01-02     0.0              NaN              NaN\n",
       "1325  423.0   8254.0  2013-01-03     0.0              NaN              NaN\n",
       "2402  423.0   9285.0  2013-01-04     0.0              NaN              NaN\n",
       "3479  423.0   7095.0  2013-01-05     0.0              NaN              NaN\n",
       "4334  423.0  10770.0  2013-01-06     0.0              NaN              NaN\n",
       "4565  423.0  10379.0  2013-01-07     0.0              NaN              NaN\n",
       "5642  423.0   9826.0  2013-01-08     0.0              NaN              NaN\n",
       "6712  423.0   9259.0  2013-01-09     0.0              NaN              NaN\n",
       "7779  423.0   8831.0  2013-01-10     0.0              NaN              NaN"
      ]
     },
     "execution_count": 501,
     "metadata": {},
     "output_type": "execute_result"
    }
   ],
   "source": [
    "dt_eng.loc[dt_eng[\"Store\"]==423, [\"Store\", \"Sales\", \"Date\", \"Promo2\", \"Promo2SinceWeek\", \"Promo2SinceYear\"]].head(10)"
   ]
  },
  {
   "cell_type": "code",
   "execution_count": null,
   "id": "fee7f807-e704-4a7d-9c8e-dba83a5d1488",
   "metadata": {},
   "outputs": [],
   "source": []
  },
  {
   "cell_type": "code",
   "execution_count": 502,
   "id": "0c6357bb-7337-4ee4-8caa-529424c53c7d",
   "metadata": {
    "jupyter": {
     "source_hidden": true
    },
    "tags": []
   },
   "outputs": [],
   "source": [
    "#CompetitionOpenSince[Month/Year]\n",
    "#should be interacted with competitionDistance\n"
   ]
  },
  {
   "cell_type": "code",
   "execution_count": 503,
   "id": "a7c2155d-44af-48f0-8951-6a771f245ab2",
   "metadata": {},
   "outputs": [
    {
     "data": {
      "text/plain": [
       "Index(['Date', 'Store', 'DayOfWeek', 'Sales', 'Open', 'Promo', 'StateHoliday',\n",
       "       'SchoolHoliday', 'StoreType', 'Assortment', 'CompetitionDistance',\n",
       "       'CompetitionOpenSinceMonth', 'CompetitionOpenSinceYear', 'Promo2',\n",
       "       'Promo2SinceWeek', 'Promo2SinceYear', 'PromoInterval', 'PublicHoliday',\n",
       "       'Easter', 'Christmas', 'storetype_a', 'storetype_b', 'storetype_c',\n",
       "       'storetype_d', 'assort_a', 'assort_b', 'assort_c'],\n",
       "      dtype='object')"
      ]
     },
     "execution_count": 503,
     "metadata": {},
     "output_type": "execute_result"
    }
   ],
   "source": [
    "dt_eng.columns"
   ]
  },
  {
   "cell_type": "code",
   "execution_count": null,
   "id": "f9fa34dd-445a-4a98-a1f4-7001d8204cae",
   "metadata": {},
   "outputs": [],
   "source": []
  },
  {
   "cell_type": "markdown",
   "id": "0fc6a12b-6a8a-4836-82b0-162af4b2eff3",
   "metadata": {},
   "source": [
    "## Final Feature selection"
   ]
  },
  {
   "cell_type": "code",
   "execution_count": 504,
   "id": "8800b88e-60ba-480e-89b1-0d9d6b2ae1cb",
   "metadata": {},
   "outputs": [],
   "source": [
    "features = ['DayOfWeek', 'Open', 'Promo', 'SchoolHoliday', 'CompetitionDistance', 'Promo2', 'PublicHoliday', 'Easter', 'Christmas', \n",
    "                    'storetype_a', 'storetype_b', 'storetype_c', 'storetype_d', 'assort_a', 'assort_b', 'assort_c']"
   ]
  },
  {
   "cell_type": "code",
   "execution_count": 505,
   "id": "8ddd3566-86d2-453b-9e1d-1715efe31d1a",
   "metadata": {},
   "outputs": [],
   "source": [
    "dt_eng_nomissing = dt_eng.dropna( how='any', subset=[\"StateHoliday\", \"Assortment\"])\n",
    "\n",
    "dt_eng_nomissing = dt_eng_nomissing.dropna( how='any', subset=features)\n"
   ]
  },
  {
   "cell_type": "code",
   "execution_count": 506,
   "id": "5b9e3657-5afa-4aca-bc17-71f7959ee77e",
   "metadata": {
    "tags": []
   },
   "outputs": [],
   "source": [
    "X = dt_eng_nomissing.loc[:, features ]\n",
    "y = dt_eng_nomissing.loc[:, 'Sales']"
   ]
  },
  {
   "cell_type": "code",
   "execution_count": 507,
   "id": "f19cec30-5eb2-4717-92a3-0caa7702597e",
   "metadata": {},
   "outputs": [
    {
     "data": {
      "text/plain": [
       "DayOfWeek              0\n",
       "Open                   0\n",
       "Promo                  0\n",
       "SchoolHoliday          0\n",
       "CompetitionDistance    0\n",
       "Promo2                 0\n",
       "PublicHoliday          0\n",
       "Easter                 0\n",
       "Christmas              0\n",
       "storetype_a            0\n",
       "storetype_b            0\n",
       "storetype_c            0\n",
       "storetype_d            0\n",
       "assort_a               0\n",
       "assort_b               0\n",
       "assort_c               0\n",
       "dtype: int64"
      ]
     },
     "execution_count": 507,
     "metadata": {},
     "output_type": "execute_result"
    }
   ],
   "source": [
    "X.isnull().sum()"
   ]
  },
  {
   "cell_type": "code",
   "execution_count": null,
   "id": "a1728ee9-57c3-4322-b463-b12c6595d482",
   "metadata": {},
   "outputs": [],
   "source": []
  },
  {
   "cell_type": "code",
   "execution_count": null,
   "id": "fbe3924e-9e76-4003-88c0-dd2d0fe0fcac",
   "metadata": {},
   "outputs": [],
   "source": []
  },
  {
   "cell_type": "code",
   "execution_count": null,
   "id": "812f56d8-d4d2-472a-a745-a546aa0898e8",
   "metadata": {},
   "outputs": [],
   "source": []
  },
  {
   "cell_type": "markdown",
   "id": "b27fa58e-7f38-40e2-aab9-0e6a42c6d7d0",
   "metadata": {},
   "source": [
    "## Split Data in Test/Train"
   ]
  },
  {
   "cell_type": "code",
   "execution_count": 513,
   "id": "bd011b88-4f3d-4106-8d7c-116fabddea4c",
   "metadata": {},
   "outputs": [],
   "source": [
    "X_train, X_test, y_train, y_test = train_test_split(X, y, test_size=0.2, train_size=0.8, random_state=42, shuffle=True, stratify=None)"
   ]
  },
  {
   "cell_type": "markdown",
   "id": "84ba9f9c-c0c6-44e1-910c-49427606e38a",
   "metadata": {
    "tags": []
   },
   "source": [
    "## Modelling"
   ]
  },
  {
   "cell_type": "markdown",
   "id": "009f3369-27e2-4f06-acc2-2aae881256d0",
   "metadata": {},
   "source": [
    "### Baseline"
   ]
  },
  {
   "cell_type": "code",
   "execution_count": 534,
   "id": "ede201d3-6eda-44a2-9663-aa2307d95148",
   "metadata": {},
   "outputs": [],
   "source": [
    "def rmspe(preds, actuals):\n",
    "    #preds = preds.reshape(-1)\n",
    "    #actuals = actuals.reshape(-1)\n",
    "    #assert preds.shape == actuals.shape\n",
    "    return np.sqrt(np.mean(np.square((actual-pred) / actual))) * 100"
   ]
  },
  {
   "cell_type": "code",
   "execution_count": 535,
   "id": "b7e20424-1c6b-4171-91ea-0851f45586e5",
   "metadata": {},
   "outputs": [
    {
     "data": {
      "text/plain": [
       "50.27323475335008"
      ]
     },
     "execution_count": 535,
     "metadata": {},
     "output_type": "execute_result"
    }
   ],
   "source": [
    "lr = LinearRegression()\n",
    "lr.fit(X_train, y_train)\n",
    "lr.predict(X_test)\n",
    "pred = lr.predict(X_test)\n",
    "actual = y_test\n",
    "rmspe(lr.predict(X_test), y_test)"
   ]
  },
  {
   "cell_type": "code",
   "execution_count": null,
   "id": "28d44d06-d540-4b67-8a35-13c12d8703f4",
   "metadata": {},
   "outputs": [],
   "source": []
  },
  {
   "cell_type": "code",
   "execution_count": null,
   "id": "4b5493a1-5fdb-4b2c-b960-42b1c7adeba6",
   "metadata": {},
   "outputs": [],
   "source": []
  },
  {
   "cell_type": "code",
   "execution_count": null,
   "id": "c36033f9-5433-4ee3-8d28-7b292ae4585e",
   "metadata": {},
   "outputs": [],
   "source": []
  }
 ],
 "metadata": {
  "kernelspec": {
   "display_name": "Python 3",
   "language": "python",
   "name": "python3"
  },
  "language_info": {
   "codemirror_mode": {
    "name": "ipython",
    "version": 3
   },
   "file_extension": ".py",
   "mimetype": "text/x-python",
   "name": "python",
   "nbconvert_exporter": "python",
   "pygments_lexer": "ipython3",
   "version": "3.8.8"
  }
 },
 "nbformat": 4,
 "nbformat_minor": 5
}
